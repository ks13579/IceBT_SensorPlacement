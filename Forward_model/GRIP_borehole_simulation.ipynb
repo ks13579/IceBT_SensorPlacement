{
 "cells": [
  {
   "cell_type": "code",
   "execution_count": 1,
   "id": "7fa79aa0",
   "metadata": {},
   "outputs": [],
   "source": [
    "import numpy as np\n",
    "import matplotlib.pyplot as plt \n",
    "\n",
    "import pandas as pd\n",
    "import dill \n",
    "from tqdm import tqdm\n",
    "import time\n",
    "from scipy.stats import qmc\n",
    "import random\n",
    "\n",
    "from src.generate_IC_fixed_grid import get_generate_IC_fixed_grid\n",
    "from src.solution_using_FD import get_solution_using_FD\n",
    "from src.linear_interpolation import interpolate_linear,interpolate_linear_fill_value\n"
   ]
  },
  {
   "cell_type": "markdown",
   "id": "2e2d69b5",
   "metadata": {},
   "source": [
    "Density profile"
   ]
  },
  {
   "cell_type": "code",
   "execution_count": 2,
   "id": "650e7d87",
   "metadata": {},
   "outputs": [],
   "source": [
    "GRIP=pd.read_excel('src/paper_site_densities.xlsx')\n",
    "borehole3000_densityProf=list(GRIP['den_GRIP_317_230'].dropna())\n",
    "borehole3000_depths= list(GRIP['dep_GRIP_317_230'].dropna())"
   ]
  },
  {
   "cell_type": "code",
   "execution_count": 3,
   "id": "bacad79c",
   "metadata": {},
   "outputs": [],
   "source": [
    "Ts=-31.7\n",
    "ws=230\n",
    "Tb=-9\n",
    "wb=0\n",
    "m=10\n",
    "alpha=2\n",
    "beta=0.5\n",
    "velocity=[]\n",
    "max_depth=3029\n",
    "max_time=500000\n",
    "dt_approx=2**-4\n",
    "dz_approx=2**2"
   ]
  },
  {
   "cell_type": "raw",
   "id": "8d86a771",
   "metadata": {},
   "source": [
    "ic=get_generate_IC_fixed_grid(max_depth, max_time, dz_approx, dt_approx,\n",
    "                              borehole3000_depths, borehole3000_densityProf,\n",
    "                              velocity,Ts,Tb,alpha,beta,ws, wb,m)\n",
    "np.save('src/ic_GRIP.npy',ic)"
   ]
  },
  {
   "cell_type": "markdown",
   "id": "b8d5ae4f",
   "metadata": {},
   "source": [
    "Data generation for results section (GRIP)"
   ]
  },
  {
   "cell_type": "code",
   "execution_count": 4,
   "id": "8c06d759",
   "metadata": {},
   "outputs": [],
   "source": [
    "no_of_profiles=10"
   ]
  },
  {
   "cell_type": "code",
   "execution_count": 5,
   "id": "e5bee980",
   "metadata": {},
   "outputs": [],
   "source": [
    "max_time=1000-1\n",
    "time_grid=int(max_time/dt_approx)\n",
    "time_req=np.linspace(0,max_time,time_grid)\n",
    "max_depth=3029\n",
    "ic=np.load('src/ic_GRIP.npy',allow_pickle=True)"
   ]
  },
  {
   "cell_type": "code",
   "execution_count": 6,
   "id": "9aa4f35f",
   "metadata": {},
   "outputs": [
    {
     "name": "stdout",
     "output_type": "stream",
     "text": [
      "In diffusion_advection_FD_full_matrix()\n",
      "len(Temp[0 , : ]) !=2 :\n",
      "len(Temp[-1 , : ]) !=2 :\n",
      "executed assign_initial_boundary_conditions\n",
      "using calculated velocity profile\n",
      "executed set_vertical_velocity\n"
     ]
    },
    {
     "name": "stderr",
     "output_type": "stream",
     "text": [
      "100%|██████████████████████████████████| 15983/15983 [00:00<00:00, 30782.99it/s]\n"
     ]
    },
    {
     "name": "stdout",
     "output_type": "stream",
     "text": [
      "\n",
      "end of diffusion_advection_FD(), time taken: 0.5228307247161865\n",
      "In diffusion_advection_FD_full_matrix()\n",
      "len(Temp[0 , : ]) !=2 :\n",
      "len(Temp[-1 , : ]) !=2 :\n",
      "executed assign_initial_boundary_conditions\n",
      "using calculated velocity profile\n",
      "executed set_vertical_velocity\n"
     ]
    },
    {
     "name": "stderr",
     "output_type": "stream",
     "text": [
      "100%|██████████████████████████████████| 15983/15983 [00:00<00:00, 30242.97it/s]\n"
     ]
    },
    {
     "name": "stdout",
     "output_type": "stream",
     "text": [
      "\n",
      "end of diffusion_advection_FD(), time taken: 0.5313539505004883\n",
      "In diffusion_advection_FD_full_matrix()\n",
      "len(Temp[0 , : ]) !=2 :\n",
      "len(Temp[-1 , : ]) !=2 :\n",
      "executed assign_initial_boundary_conditions\n",
      "using calculated velocity profile\n",
      "executed set_vertical_velocity\n"
     ]
    },
    {
     "name": "stderr",
     "output_type": "stream",
     "text": [
      "100%|██████████████████████████████████| 15983/15983 [00:00<00:00, 29984.06it/s]\n"
     ]
    },
    {
     "name": "stdout",
     "output_type": "stream",
     "text": [
      "\n",
      "end of diffusion_advection_FD(), time taken: 0.5358953475952148\n",
      "In diffusion_advection_FD_full_matrix()\n",
      "len(Temp[0 , : ]) !=2 :\n",
      "len(Temp[-1 , : ]) !=2 :\n",
      "executed assign_initial_boundary_conditions\n",
      "using calculated velocity profile\n",
      "executed set_vertical_velocity\n"
     ]
    },
    {
     "name": "stderr",
     "output_type": "stream",
     "text": [
      "100%|██████████████████████████████████| 15983/15983 [00:00<00:00, 29895.48it/s]\n"
     ]
    },
    {
     "name": "stdout",
     "output_type": "stream",
     "text": [
      "\n",
      "end of diffusion_advection_FD(), time taken: 0.5374929904937744\n",
      "In diffusion_advection_FD_full_matrix()\n",
      "len(Temp[0 , : ]) !=2 :\n",
      "len(Temp[-1 , : ]) !=2 :\n",
      "executed assign_initial_boundary_conditions\n",
      "using calculated velocity profile\n",
      "executed set_vertical_velocity\n"
     ]
    },
    {
     "name": "stderr",
     "output_type": "stream",
     "text": [
      "100%|██████████████████████████████████| 15983/15983 [00:00<00:00, 29809.75it/s]\n"
     ]
    },
    {
     "name": "stdout",
     "output_type": "stream",
     "text": [
      "\n",
      "end of diffusion_advection_FD(), time taken: 0.5390579700469971\n",
      "In diffusion_advection_FD_full_matrix()\n",
      "len(Temp[0 , : ]) !=2 :\n",
      "len(Temp[-1 , : ]) !=2 :\n",
      "executed assign_initial_boundary_conditions\n",
      "using calculated velocity profile\n",
      "executed set_vertical_velocity\n"
     ]
    },
    {
     "name": "stderr",
     "output_type": "stream",
     "text": [
      "100%|██████████████████████████████████| 15983/15983 [00:00<00:00, 29622.86it/s]\n"
     ]
    },
    {
     "name": "stdout",
     "output_type": "stream",
     "text": [
      "\n",
      "end of diffusion_advection_FD(), time taken: 0.5425302982330322\n",
      "In diffusion_advection_FD_full_matrix()\n",
      "len(Temp[0 , : ]) !=2 :\n",
      "len(Temp[-1 , : ]) !=2 :\n",
      "executed assign_initial_boundary_conditions\n",
      "using calculated velocity profile\n",
      "executed set_vertical_velocity\n"
     ]
    },
    {
     "name": "stderr",
     "output_type": "stream",
     "text": [
      "100%|██████████████████████████████████| 15983/15983 [00:00<00:00, 29978.30it/s]\n"
     ]
    },
    {
     "name": "stdout",
     "output_type": "stream",
     "text": [
      "\n",
      "end of diffusion_advection_FD(), time taken: 0.5358352661132812\n",
      "In diffusion_advection_FD_full_matrix()\n",
      "len(Temp[0 , : ]) !=2 :\n",
      "len(Temp[-1 , : ]) !=2 :\n",
      "executed assign_initial_boundary_conditions\n",
      "using calculated velocity profile\n",
      "executed set_vertical_velocity\n"
     ]
    },
    {
     "name": "stderr",
     "output_type": "stream",
     "text": [
      "100%|██████████████████████████████████| 15983/15983 [00:00<00:00, 29632.51it/s]\n"
     ]
    },
    {
     "name": "stdout",
     "output_type": "stream",
     "text": [
      "\n",
      "end of diffusion_advection_FD(), time taken: 0.5420384407043457\n",
      "In diffusion_advection_FD_full_matrix()\n",
      "len(Temp[0 , : ]) !=2 :\n",
      "len(Temp[-1 , : ]) !=2 :\n",
      "executed assign_initial_boundary_conditions\n",
      "using calculated velocity profile\n",
      "executed set_vertical_velocity\n"
     ]
    },
    {
     "name": "stderr",
     "output_type": "stream",
     "text": [
      "100%|██████████████████████████████████| 15983/15983 [00:00<00:00, 29800.44it/s]\n"
     ]
    },
    {
     "name": "stdout",
     "output_type": "stream",
     "text": [
      "\n",
      "end of diffusion_advection_FD(), time taken: 0.538963794708252\n",
      "In diffusion_advection_FD_full_matrix()\n",
      "len(Temp[0 , : ]) !=2 :\n",
      "len(Temp[-1 , : ]) !=2 :\n",
      "executed assign_initial_boundary_conditions\n",
      "using calculated velocity profile\n",
      "executed set_vertical_velocity\n"
     ]
    },
    {
     "name": "stderr",
     "output_type": "stream",
     "text": [
      "100%|██████████████████████████████████| 15983/15983 [00:00<00:00, 30042.22it/s]"
     ]
    },
    {
     "name": "stdout",
     "output_type": "stream",
     "text": [
      "\n",
      "end of diffusion_advection_FD(), time taken: 0.5347096920013428\n"
     ]
    },
    {
     "name": "stderr",
     "output_type": "stream",
     "text": [
      "\n"
     ]
    }
   ],
   "source": [
    "T_PolarAmplification10 = np.genfromtxt(fname='data/GRIP_T_PolarAmplification1.beta0.txt')\n",
    "\n",
    "time_points=[]\n",
    "for i in range (1000):#maxtime\n",
    "    time_points.append(i)\n",
    "velocity=[]\n",
    "\n",
    "PA10_simulation_10=np.zeros((no_of_profiles,ic.shape[0]))\n",
    "PA10_surfaceTem_10=np.zeros((no_of_profiles,time_grid))\n",
    "\n",
    "for k in range(no_of_profiles):#no. of profiles\n",
    "    TPA_data=[]\n",
    "    for i in range (1000):#maxtime\n",
    "        TPA_data.append(T_PolarAmplification10[i][k])\n",
    "    top_boundary=interpolate_linear(x_ref=time_points,y_ref=TPA_data,x_req=time_req)\n",
    "    PA10_surfaceTem_10[k,:]=top_boundary\n",
    "    bottom_boundary=Tb\n",
    "\n",
    "    case_TPA_data=get_solution_using_FD(max_depth, max_time, dz_approx, dt_approx, \n",
    "                                        borehole3000_depths, borehole3000_densityProf,\n",
    "                                        velocity,ic,top_boundary,Tb,alpha,ws, wb,m)\n",
    "    PA10_simulation_10[k,:]=case_TPA_data.T[:,-1]\n",
    "    "
   ]
  },
  {
   "cell_type": "raw",
   "id": "e96b99ce",
   "metadata": {},
   "source": [
    "np.save('../Sensor placements/data_borehole_simulations/GRIP_simulations/GRIP_PA10_surfaceTem_10',PA10_surfaceTem_10)\n",
    "np.save('../Sensor placements/data_borehole_simulations/GRIP_simulations/GRIP_PA10_simulation_10',PA10_simulation_10)"
   ]
  },
  {
   "cell_type": "code",
   "execution_count": 8,
   "id": "bee8459d",
   "metadata": {},
   "outputs": [
    {
     "name": "stdout",
     "output_type": "stream",
     "text": [
      "In diffusion_advection_FD_full_matrix()\n",
      "len(Temp[0 , : ]) !=2 :\n",
      "len(Temp[-1 , : ]) !=2 :\n",
      "executed assign_initial_boundary_conditions\n",
      "using calculated velocity profile\n",
      "executed set_vertical_velocity\n"
     ]
    },
    {
     "name": "stderr",
     "output_type": "stream",
     "text": [
      "100%|██████████████████████████████████| 15983/15983 [00:00<00:00, 30875.56it/s]\n"
     ]
    },
    {
     "name": "stdout",
     "output_type": "stream",
     "text": [
      "\n",
      "end of diffusion_advection_FD(), time taken: 0.5209066867828369\n",
      "In diffusion_advection_FD_full_matrix()\n",
      "len(Temp[0 , : ]) !=2 :\n",
      "len(Temp[-1 , : ]) !=2 :\n",
      "executed assign_initial_boundary_conditions\n",
      "using calculated velocity profile\n",
      "executed set_vertical_velocity\n"
     ]
    },
    {
     "name": "stderr",
     "output_type": "stream",
     "text": [
      "100%|██████████████████████████████████| 15983/15983 [00:00<00:00, 30189.65it/s]\n"
     ]
    },
    {
     "name": "stdout",
     "output_type": "stream",
     "text": [
      "\n",
      "end of diffusion_advection_FD(), time taken: 0.5321385860443115\n",
      "In diffusion_advection_FD_full_matrix()\n",
      "len(Temp[0 , : ]) !=2 :\n",
      "len(Temp[-1 , : ]) !=2 :\n",
      "executed assign_initial_boundary_conditions\n",
      "using calculated velocity profile\n",
      "executed set_vertical_velocity\n"
     ]
    },
    {
     "name": "stderr",
     "output_type": "stream",
     "text": [
      "100%|██████████████████████████████████| 15983/15983 [00:00<00:00, 29822.72it/s]\n"
     ]
    },
    {
     "name": "stdout",
     "output_type": "stream",
     "text": [
      "\n",
      "end of diffusion_advection_FD(), time taken: 0.5388126373291016\n",
      "In diffusion_advection_FD_full_matrix()\n",
      "len(Temp[0 , : ]) !=2 :\n",
      "len(Temp[-1 , : ]) !=2 :\n",
      "executed assign_initial_boundary_conditions\n",
      "using calculated velocity profile\n",
      "executed set_vertical_velocity\n"
     ]
    },
    {
     "name": "stderr",
     "output_type": "stream",
     "text": [
      "100%|██████████████████████████████████| 15983/15983 [00:00<00:00, 29986.04it/s]\n"
     ]
    },
    {
     "name": "stdout",
     "output_type": "stream",
     "text": [
      "\n",
      "end of diffusion_advection_FD(), time taken: 0.5356240272521973\n",
      "In diffusion_advection_FD_full_matrix()\n",
      "len(Temp[0 , : ]) !=2 :\n",
      "len(Temp[-1 , : ]) !=2 :\n",
      "executed assign_initial_boundary_conditions\n",
      "using calculated velocity profile\n",
      "executed set_vertical_velocity\n"
     ]
    },
    {
     "name": "stderr",
     "output_type": "stream",
     "text": [
      "100%|██████████████████████████████████| 15983/15983 [00:00<00:00, 29669.74it/s]\n"
     ]
    },
    {
     "name": "stdout",
     "output_type": "stream",
     "text": [
      "\n",
      "end of diffusion_advection_FD(), time taken: 0.5413799285888672\n",
      "In diffusion_advection_FD_full_matrix()\n",
      "len(Temp[0 , : ]) !=2 :\n",
      "len(Temp[-1 , : ]) !=2 :\n",
      "executed assign_initial_boundary_conditions\n",
      "using calculated velocity profile\n",
      "executed set_vertical_velocity\n"
     ]
    },
    {
     "name": "stderr",
     "output_type": "stream",
     "text": [
      "100%|██████████████████████████████████| 15983/15983 [00:00<00:00, 29858.53it/s]\n"
     ]
    },
    {
     "name": "stdout",
     "output_type": "stream",
     "text": [
      "\n",
      "end of diffusion_advection_FD(), time taken: 0.5382838249206543\n",
      "In diffusion_advection_FD_full_matrix()\n",
      "len(Temp[0 , : ]) !=2 :\n",
      "len(Temp[-1 , : ]) !=2 :\n",
      "executed assign_initial_boundary_conditions\n",
      "using calculated velocity profile\n",
      "executed set_vertical_velocity\n"
     ]
    },
    {
     "name": "stderr",
     "output_type": "stream",
     "text": [
      "100%|██████████████████████████████████| 15983/15983 [00:00<00:00, 29692.76it/s]\n"
     ]
    },
    {
     "name": "stdout",
     "output_type": "stream",
     "text": [
      "\n",
      "end of diffusion_advection_FD(), time taken: 0.5413851737976074\n",
      "In diffusion_advection_FD_full_matrix()\n",
      "len(Temp[0 , : ]) !=2 :\n",
      "len(Temp[-1 , : ]) !=2 :\n",
      "executed assign_initial_boundary_conditions\n",
      "using calculated velocity profile\n",
      "executed set_vertical_velocity\n"
     ]
    },
    {
     "name": "stderr",
     "output_type": "stream",
     "text": [
      "100%|██████████████████████████████████| 15983/15983 [00:00<00:00, 30027.65it/s]\n"
     ]
    },
    {
     "name": "stdout",
     "output_type": "stream",
     "text": [
      "\n",
      "end of diffusion_advection_FD(), time taken: 0.5352561473846436\n",
      "In diffusion_advection_FD_full_matrix()\n",
      "len(Temp[0 , : ]) !=2 :\n",
      "len(Temp[-1 , : ]) !=2 :\n",
      "executed assign_initial_boundary_conditions\n",
      "using calculated velocity profile\n",
      "executed set_vertical_velocity\n"
     ]
    },
    {
     "name": "stderr",
     "output_type": "stream",
     "text": [
      "100%|██████████████████████████████████| 15983/15983 [00:00<00:00, 30046.31it/s]\n"
     ]
    },
    {
     "name": "stdout",
     "output_type": "stream",
     "text": [
      "\n",
      "end of diffusion_advection_FD(), time taken: 0.5348446369171143\n",
      "In diffusion_advection_FD_full_matrix()\n",
      "len(Temp[0 , : ]) !=2 :\n",
      "len(Temp[-1 , : ]) !=2 :\n",
      "executed assign_initial_boundary_conditions\n",
      "using calculated velocity profile\n",
      "executed set_vertical_velocity\n"
     ]
    },
    {
     "name": "stderr",
     "output_type": "stream",
     "text": [
      "100%|██████████████████████████████████| 15983/15983 [00:00<00:00, 29909.42it/s]"
     ]
    },
    {
     "name": "stdout",
     "output_type": "stream",
     "text": [
      "\n",
      "end of diffusion_advection_FD(), time taken: 0.5371911525726318\n"
     ]
    },
    {
     "name": "stderr",
     "output_type": "stream",
     "text": [
      "\n"
     ]
    }
   ],
   "source": [
    "T_PolarAmplification11 = np.genfromtxt(fname='data/GRIP_T_PolarAmplification1.beta1.txt')\n",
    "\n",
    "time_points=[]\n",
    "for i in range (1000):#maxtime\n",
    "    time_points.append(i)\n",
    "velocity=[]\n",
    "\n",
    "PA11_simulation_10=np.zeros((no_of_profiles,ic.shape[0]))\n",
    "PA11_surfaceTem_10=np.zeros((no_of_profiles,time_grid))\n",
    "\n",
    "for k in range(no_of_profiles):#no. of profiles\n",
    "    TPA_data=[]\n",
    "    for i in range (1000):#maxtime\n",
    "        TPA_data.append(T_PolarAmplification11[i][k])\n",
    "    top_boundary=interpolate_linear(x_ref=time_points,y_ref=TPA_data,x_req=time_req)\n",
    "    PA11_surfaceTem_10[k,:]=top_boundary\n",
    "    bottom_boundary=Tb\n",
    "\n",
    "    case_TPA_data=get_solution_using_FD(max_depth, max_time, dz_approx, dt_approx, \n",
    "                                        borehole3000_depths, borehole3000_densityProf,\n",
    "                                        velocity,ic,top_boundary,Tb,alpha,ws, wb,m)\n",
    "    PA11_simulation_10[k,:]=case_TPA_data.T[:,-1]"
   ]
  },
  {
   "cell_type": "raw",
   "id": "73bc4fb8",
   "metadata": {},
   "source": [
    "np.save('../Sensor placements/data_borehole_simulations/GRIP_simulations/GRIP_PA11_surfaceTem_10',PA11_surfaceTem_10)\n",
    "np.save('../Sensor placements/data_borehole_simulations/GRIP_simulations/GRIP_PA11_simulation_10',PA11_simulation_10)"
   ]
  },
  {
   "cell_type": "code",
   "execution_count": 10,
   "id": "396377a5",
   "metadata": {},
   "outputs": [
    {
     "name": "stdout",
     "output_type": "stream",
     "text": [
      "In diffusion_advection_FD_full_matrix()\n",
      "len(Temp[0 , : ]) !=2 :\n",
      "len(Temp[-1 , : ]) !=2 :\n",
      "executed assign_initial_boundary_conditions\n",
      "using calculated velocity profile\n",
      "executed set_vertical_velocity\n"
     ]
    },
    {
     "name": "stderr",
     "output_type": "stream",
     "text": [
      "100%|██████████████████████████████████| 15983/15983 [00:00<00:00, 30003.52it/s]\n"
     ]
    },
    {
     "name": "stdout",
     "output_type": "stream",
     "text": [
      "\n",
      "end of diffusion_advection_FD(), time taken: 0.5358824729919434\n",
      "In diffusion_advection_FD_full_matrix()\n",
      "len(Temp[0 , : ]) !=2 :\n",
      "len(Temp[-1 , : ]) !=2 :\n",
      "executed assign_initial_boundary_conditions\n",
      "using calculated velocity profile\n",
      "executed set_vertical_velocity\n"
     ]
    },
    {
     "name": "stderr",
     "output_type": "stream",
     "text": [
      "100%|██████████████████████████████████| 15983/15983 [00:00<00:00, 30049.79it/s]\n"
     ]
    },
    {
     "name": "stdout",
     "output_type": "stream",
     "text": [
      "\n",
      "end of diffusion_advection_FD(), time taken: 0.5345191955566406\n",
      "In diffusion_advection_FD_full_matrix()\n",
      "len(Temp[0 , : ]) !=2 :\n",
      "len(Temp[-1 , : ]) !=2 :\n",
      "executed assign_initial_boundary_conditions\n",
      "using calculated velocity profile\n",
      "executed set_vertical_velocity\n"
     ]
    },
    {
     "name": "stderr",
     "output_type": "stream",
     "text": [
      "100%|██████████████████████████████████| 15983/15983 [00:00<00:00, 29957.90it/s]\n"
     ]
    },
    {
     "name": "stdout",
     "output_type": "stream",
     "text": [
      "\n",
      "end of diffusion_advection_FD(), time taken: 0.5361325740814209\n",
      "In diffusion_advection_FD_full_matrix()\n",
      "len(Temp[0 , : ]) !=2 :\n",
      "len(Temp[-1 , : ]) !=2 :\n",
      "executed assign_initial_boundary_conditions\n",
      "using calculated velocity profile\n",
      "executed set_vertical_velocity\n"
     ]
    },
    {
     "name": "stderr",
     "output_type": "stream",
     "text": [
      "100%|██████████████████████████████████| 15983/15983 [00:00<00:00, 30094.78it/s]\n"
     ]
    },
    {
     "name": "stdout",
     "output_type": "stream",
     "text": [
      "\n",
      "end of diffusion_advection_FD(), time taken: 0.5340588092803955\n",
      "In diffusion_advection_FD_full_matrix()\n",
      "len(Temp[0 , : ]) !=2 :\n",
      "len(Temp[-1 , : ]) !=2 :\n",
      "executed assign_initial_boundary_conditions\n",
      "using calculated velocity profile\n",
      "executed set_vertical_velocity\n"
     ]
    },
    {
     "name": "stderr",
     "output_type": "stream",
     "text": [
      "100%|██████████████████████████████████| 15983/15983 [00:00<00:00, 29850.30it/s]\n"
     ]
    },
    {
     "name": "stdout",
     "output_type": "stream",
     "text": [
      "\n",
      "end of diffusion_advection_FD(), time taken: 0.538344144821167\n",
      "In diffusion_advection_FD_full_matrix()\n",
      "len(Temp[0 , : ]) !=2 :\n",
      "len(Temp[-1 , : ]) !=2 :\n",
      "executed assign_initial_boundary_conditions\n",
      "using calculated velocity profile\n",
      "executed set_vertical_velocity\n"
     ]
    },
    {
     "name": "stderr",
     "output_type": "stream",
     "text": [
      "100%|██████████████████████████████████| 15983/15983 [00:00<00:00, 30019.32it/s]\n"
     ]
    },
    {
     "name": "stdout",
     "output_type": "stream",
     "text": [
      "\n",
      "end of diffusion_advection_FD(), time taken: 0.5350682735443115\n",
      "In diffusion_advection_FD_full_matrix()\n",
      "len(Temp[0 , : ]) !=2 :\n",
      "len(Temp[-1 , : ]) !=2 :\n",
      "executed assign_initial_boundary_conditions\n",
      "using calculated velocity profile\n",
      "executed set_vertical_velocity\n"
     ]
    },
    {
     "name": "stderr",
     "output_type": "stream",
     "text": [
      "100%|██████████████████████████████████| 15983/15983 [00:00<00:00, 29616.46it/s]\n"
     ]
    },
    {
     "name": "stdout",
     "output_type": "stream",
     "text": [
      "\n",
      "end of diffusion_advection_FD(), time taken: 0.5425539016723633\n",
      "In diffusion_advection_FD_full_matrix()\n",
      "len(Temp[0 , : ]) !=2 :\n",
      "len(Temp[-1 , : ]) !=2 :\n",
      "executed assign_initial_boundary_conditions\n",
      "using calculated velocity profile\n",
      "executed set_vertical_velocity\n"
     ]
    },
    {
     "name": "stderr",
     "output_type": "stream",
     "text": [
      "100%|██████████████████████████████████| 15983/15983 [00:00<00:00, 29998.31it/s]\n"
     ]
    },
    {
     "name": "stdout",
     "output_type": "stream",
     "text": [
      "\n",
      "end of diffusion_advection_FD(), time taken: 0.5357530117034912\n",
      "In diffusion_advection_FD_full_matrix()\n",
      "len(Temp[0 , : ]) !=2 :\n",
      "len(Temp[-1 , : ]) !=2 :\n",
      "executed assign_initial_boundary_conditions\n",
      "using calculated velocity profile\n",
      "executed set_vertical_velocity\n"
     ]
    },
    {
     "name": "stderr",
     "output_type": "stream",
     "text": [
      "100%|██████████████████████████████████| 15983/15983 [00:00<00:00, 29961.27it/s]\n"
     ]
    },
    {
     "name": "stdout",
     "output_type": "stream",
     "text": [
      "\n",
      "end of diffusion_advection_FD(), time taken: 0.5361771583557129\n",
      "In diffusion_advection_FD_full_matrix()\n",
      "len(Temp[0 , : ]) !=2 :\n",
      "len(Temp[-1 , : ]) !=2 :\n",
      "executed assign_initial_boundary_conditions\n",
      "using calculated velocity profile\n",
      "executed set_vertical_velocity\n"
     ]
    },
    {
     "name": "stderr",
     "output_type": "stream",
     "text": [
      "100%|██████████████████████████████████| 15983/15983 [00:00<00:00, 29967.31it/s]"
     ]
    },
    {
     "name": "stdout",
     "output_type": "stream",
     "text": [
      "\n",
      "end of diffusion_advection_FD(), time taken: 0.5359680652618408\n"
     ]
    },
    {
     "name": "stderr",
     "output_type": "stream",
     "text": [
      "\n"
     ]
    }
   ],
   "source": [
    "T_PolarAmplification20 = np.genfromtxt(fname='data/GRIP_T_PolarAmplification2.beta0.txt')\n",
    "\n",
    "time_points=[]\n",
    "for i in range (1000):#maxtime\n",
    "    time_points.append(i)\n",
    "velocity=[]\n",
    "\n",
    "PA20_simulation_10=np.zeros((no_of_profiles,ic.shape[0]))\n",
    "PA20_surfaceTem_10=np.zeros((no_of_profiles,time_grid))\n",
    "\n",
    "for k in range(no_of_profiles):#no. of profiles\n",
    "    TPA_data=[]\n",
    "    for i in range (1000):#maxtime\n",
    "        TPA_data.append(T_PolarAmplification20[i][k])\n",
    "    top_boundary=interpolate_linear(x_ref=time_points,y_ref=TPA_data,x_req=time_req)\n",
    "    PA20_surfaceTem_10[k,:]=top_boundary\n",
    "    bottom_boundary=Tb\n",
    "\n",
    "    case_TPA_data=get_solution_using_FD(max_depth, max_time, dz_approx, dt_approx, \n",
    "                                        borehole3000_depths, borehole3000_densityProf,\n",
    "                                        velocity,ic,top_boundary,Tb,alpha,ws, wb,m)\n",
    "    PA20_simulation_10[k,:]=case_TPA_data.T[:,-1]\n",
    "    "
   ]
  },
  {
   "cell_type": "raw",
   "id": "cc655fc3",
   "metadata": {},
   "source": [
    "np.save('../Sensor placements/data_borehole_simulations/GRIP_simulations/GRIP_PA20_surfaceTem_10',PA20_surfaceTem_10)\n",
    "np.save('../Sensor placements/data_borehole_simulations/GRIP_simulations/GRIP_PA20_simulation_10',PA20_simulation_10)"
   ]
  },
  {
   "cell_type": "code",
   "execution_count": 12,
   "id": "8288d3b2",
   "metadata": {},
   "outputs": [
    {
     "name": "stdout",
     "output_type": "stream",
     "text": [
      "In diffusion_advection_FD_full_matrix()\n",
      "len(Temp[0 , : ]) !=2 :\n",
      "len(Temp[-1 , : ]) !=2 :\n",
      "executed assign_initial_boundary_conditions\n",
      "using calculated velocity profile\n",
      "executed set_vertical_velocity\n"
     ]
    },
    {
     "name": "stderr",
     "output_type": "stream",
     "text": [
      "100%|██████████████████████████████████| 15983/15983 [00:00<00:00, 29963.41it/s]\n"
     ]
    },
    {
     "name": "stdout",
     "output_type": "stream",
     "text": [
      "\n",
      "end of diffusion_advection_FD(), time taken: 0.5362808704376221\n",
      "In diffusion_advection_FD_full_matrix()\n",
      "len(Temp[0 , : ]) !=2 :\n",
      "len(Temp[-1 , : ]) !=2 :\n",
      "executed assign_initial_boundary_conditions\n",
      "using calculated velocity profile\n",
      "executed set_vertical_velocity\n"
     ]
    },
    {
     "name": "stderr",
     "output_type": "stream",
     "text": [
      "100%|██████████████████████████████████| 15983/15983 [00:00<00:00, 30076.37it/s]\n"
     ]
    },
    {
     "name": "stdout",
     "output_type": "stream",
     "text": [
      "\n",
      "end of diffusion_advection_FD(), time taken: 0.533919095993042\n",
      "In diffusion_advection_FD_full_matrix()\n",
      "len(Temp[0 , : ]) !=2 :\n",
      "len(Temp[-1 , : ]) !=2 :\n",
      "executed assign_initial_boundary_conditions\n",
      "using calculated velocity profile\n",
      "executed set_vertical_velocity\n"
     ]
    },
    {
     "name": "stderr",
     "output_type": "stream",
     "text": [
      "100%|██████████████████████████████████| 15983/15983 [00:00<00:00, 30066.15it/s]\n"
     ]
    },
    {
     "name": "stdout",
     "output_type": "stream",
     "text": [
      "\n",
      "end of diffusion_advection_FD(), time taken: 0.5339736938476562\n",
      "In diffusion_advection_FD_full_matrix()\n",
      "len(Temp[0 , : ]) !=2 :\n",
      "len(Temp[-1 , : ]) !=2 :\n",
      "executed assign_initial_boundary_conditions\n",
      "using calculated velocity profile\n",
      "executed set_vertical_velocity\n"
     ]
    },
    {
     "name": "stderr",
     "output_type": "stream",
     "text": [
      "100%|██████████████████████████████████| 15983/15983 [00:00<00:00, 29879.12it/s]\n"
     ]
    },
    {
     "name": "stdout",
     "output_type": "stream",
     "text": [
      "\n",
      "end of diffusion_advection_FD(), time taken: 0.5373208522796631\n",
      "In diffusion_advection_FD_full_matrix()\n",
      "len(Temp[0 , : ]) !=2 :\n",
      "len(Temp[-1 , : ]) !=2 :\n",
      "executed assign_initial_boundary_conditions\n",
      "using calculated velocity profile\n",
      "executed set_vertical_velocity\n"
     ]
    },
    {
     "name": "stderr",
     "output_type": "stream",
     "text": [
      "100%|██████████████████████████████████| 15983/15983 [00:00<00:00, 30077.18it/s]\n"
     ]
    },
    {
     "name": "stdout",
     "output_type": "stream",
     "text": [
      "\n",
      "end of diffusion_advection_FD(), time taken: 0.5339381694793701\n",
      "In diffusion_advection_FD_full_matrix()\n",
      "len(Temp[0 , : ]) !=2 :\n",
      "len(Temp[-1 , : ]) !=2 :\n",
      "executed assign_initial_boundary_conditions\n",
      "using calculated velocity profile\n",
      "executed set_vertical_velocity\n"
     ]
    },
    {
     "name": "stderr",
     "output_type": "stream",
     "text": [
      "100%|██████████████████████████████████| 15983/15983 [00:00<00:00, 30125.04it/s]\n"
     ]
    },
    {
     "name": "stdout",
     "output_type": "stream",
     "text": [
      "\n",
      "end of diffusion_advection_FD(), time taken: 0.5330607891082764\n",
      "In diffusion_advection_FD_full_matrix()\n",
      "len(Temp[0 , : ]) !=2 :\n",
      "len(Temp[-1 , : ]) !=2 :\n",
      "executed assign_initial_boundary_conditions\n",
      "using calculated velocity profile\n",
      "executed set_vertical_velocity\n"
     ]
    },
    {
     "name": "stderr",
     "output_type": "stream",
     "text": [
      "100%|██████████████████████████████████| 15983/15983 [00:00<00:00, 29978.43it/s]\n"
     ]
    },
    {
     "name": "stdout",
     "output_type": "stream",
     "text": [
      "\n",
      "end of diffusion_advection_FD(), time taken: 0.5360689163208008\n",
      "In diffusion_advection_FD_full_matrix()\n",
      "len(Temp[0 , : ]) !=2 :\n",
      "len(Temp[-1 , : ]) !=2 :\n",
      "executed assign_initial_boundary_conditions\n",
      "using calculated velocity profile\n",
      "executed set_vertical_velocity\n"
     ]
    },
    {
     "name": "stderr",
     "output_type": "stream",
     "text": [
      "100%|██████████████████████████████████| 15983/15983 [00:00<00:00, 29887.88it/s]\n"
     ]
    },
    {
     "name": "stdout",
     "output_type": "stream",
     "text": [
      "\n",
      "end of diffusion_advection_FD(), time taken: 0.5376260280609131\n",
      "In diffusion_advection_FD_full_matrix()\n",
      "len(Temp[0 , : ]) !=2 :\n",
      "len(Temp[-1 , : ]) !=2 :\n",
      "executed assign_initial_boundary_conditions\n",
      "using calculated velocity profile\n",
      "executed set_vertical_velocity\n"
     ]
    },
    {
     "name": "stderr",
     "output_type": "stream",
     "text": [
      "100%|██████████████████████████████████| 15983/15983 [00:00<00:00, 29826.82it/s]\n"
     ]
    },
    {
     "name": "stdout",
     "output_type": "stream",
     "text": [
      "\n",
      "end of diffusion_advection_FD(), time taken: 0.5386073589324951\n",
      "In diffusion_advection_FD_full_matrix()\n",
      "len(Temp[0 , : ]) !=2 :\n",
      "len(Temp[-1 , : ]) !=2 :\n",
      "executed assign_initial_boundary_conditions\n",
      "using calculated velocity profile\n",
      "executed set_vertical_velocity\n"
     ]
    },
    {
     "name": "stderr",
     "output_type": "stream",
     "text": [
      "100%|██████████████████████████████████| 15983/15983 [00:00<00:00, 29937.61it/s]"
     ]
    },
    {
     "name": "stdout",
     "output_type": "stream",
     "text": [
      "\n",
      "end of diffusion_advection_FD(), time taken: 0.5365645885467529\n"
     ]
    },
    {
     "name": "stderr",
     "output_type": "stream",
     "text": [
      "\n"
     ]
    }
   ],
   "source": [
    "T_PolarAmplification21 = np.genfromtxt(fname='data/GRIP_T_PolarAmplification2.beta1.txt')\n",
    "\n",
    "time_points=[]\n",
    "for i in range (1000):#maxtime\n",
    "    time_points.append(i)\n",
    "velocity=[]\n",
    "\n",
    "PA21_simulation_10=np.zeros((no_of_profiles,ic.shape[0]))\n",
    "PA21_surfaceTem_10=np.zeros((no_of_profiles,time_grid))\n",
    "\n",
    "for k in range(no_of_profiles):#no. of profiles\n",
    "    TPA_data=[]\n",
    "    for i in range (1000):#maxtime\n",
    "        TPA_data.append(T_PolarAmplification21[i][k])\n",
    "    top_boundary=interpolate_linear(x_ref=time_points,y_ref=TPA_data,x_req=time_req)\n",
    "    PA21_surfaceTem_10[k,:]=top_boundary\n",
    "    bottom_boundary=Tb\n",
    "\n",
    "    case_TPA_data=get_solution_using_FD(max_depth, max_time, dz_approx, dt_approx, \n",
    "                                        borehole3000_depths, borehole3000_densityProf,\n",
    "                                        velocity,ic,top_boundary,Tb,alpha,ws, wb,m)\n",
    "    PA21_simulation_10[k,:]=case_TPA_data.T[:,-1]"
   ]
  },
  {
   "cell_type": "raw",
   "id": "559485be",
   "metadata": {},
   "source": [
    "np.save('../Sensor placements/data_borehole_simulations/GRIP_simulations/GRIP_PA21_surfaceTem_10',PA21_surfaceTem_10)\n",
    "np.save('../Sensor placements/data_borehole_simulations/GRIP_simulations/GRIP_PA21_simulation_10',PA21_simulation_10)"
   ]
  },
  {
   "cell_type": "code",
   "execution_count": 14,
   "id": "b40df8c0",
   "metadata": {},
   "outputs": [
    {
     "name": "stdout",
     "output_type": "stream",
     "text": [
      "In diffusion_advection_FD_full_matrix()\n",
      "len(Temp[0 , : ]) !=2 :\n",
      "len(Temp[-1 , : ]) !=2 :\n",
      "executed assign_initial_boundary_conditions\n",
      "using calculated velocity profile\n",
      "executed set_vertical_velocity\n"
     ]
    },
    {
     "name": "stderr",
     "output_type": "stream",
     "text": [
      "100%|██████████████████████████████████| 15983/15983 [00:00<00:00, 30421.74it/s]\n"
     ]
    },
    {
     "name": "stdout",
     "output_type": "stream",
     "text": [
      "\n",
      "end of diffusion_advection_FD(), time taken: 0.5283687114715576\n",
      "In diffusion_advection_FD_full_matrix()\n",
      "len(Temp[0 , : ]) !=2 :\n",
      "len(Temp[-1 , : ]) !=2 :\n",
      "executed assign_initial_boundary_conditions\n",
      "using calculated velocity profile\n",
      "executed set_vertical_velocity\n"
     ]
    },
    {
     "name": "stderr",
     "output_type": "stream",
     "text": [
      "100%|██████████████████████████████████| 15983/15983 [00:00<00:00, 30396.66it/s]\n"
     ]
    },
    {
     "name": "stdout",
     "output_type": "stream",
     "text": [
      "\n",
      "end of diffusion_advection_FD(), time taken: 0.5284700393676758\n",
      "In diffusion_advection_FD_full_matrix()\n",
      "len(Temp[0 , : ]) !=2 :\n",
      "len(Temp[-1 , : ]) !=2 :\n",
      "executed assign_initial_boundary_conditions\n",
      "using calculated velocity profile\n",
      "executed set_vertical_velocity\n"
     ]
    },
    {
     "name": "stderr",
     "output_type": "stream",
     "text": [
      "100%|██████████████████████████████████| 15983/15983 [00:00<00:00, 30439.75it/s]\n"
     ]
    },
    {
     "name": "stdout",
     "output_type": "stream",
     "text": [
      "\n",
      "end of diffusion_advection_FD(), time taken: 0.527498722076416\n",
      "In diffusion_advection_FD_full_matrix()\n",
      "len(Temp[0 , : ]) !=2 :\n",
      "len(Temp[-1 , : ]) !=2 :\n",
      "executed assign_initial_boundary_conditions\n",
      "using calculated velocity profile\n",
      "executed set_vertical_velocity\n"
     ]
    },
    {
     "name": "stderr",
     "output_type": "stream",
     "text": [
      "100%|██████████████████████████████████| 15983/15983 [00:00<00:00, 29958.78it/s]\n"
     ]
    },
    {
     "name": "stdout",
     "output_type": "stream",
     "text": [
      "\n",
      "end of diffusion_advection_FD(), time taken: 0.5361456871032715\n",
      "In diffusion_advection_FD_full_matrix()\n",
      "len(Temp[0 , : ]) !=2 :\n",
      "len(Temp[-1 , : ]) !=2 :\n",
      "executed assign_initial_boundary_conditions\n",
      "using calculated velocity profile\n",
      "executed set_vertical_velocity\n"
     ]
    },
    {
     "name": "stderr",
     "output_type": "stream",
     "text": [
      "100%|██████████████████████████████████| 15983/15983 [00:00<00:00, 29911.30it/s]\n"
     ]
    },
    {
     "name": "stdout",
     "output_type": "stream",
     "text": [
      "\n",
      "end of diffusion_advection_FD(), time taken: 0.5370535850524902\n",
      "In diffusion_advection_FD_full_matrix()\n",
      "len(Temp[0 , : ]) !=2 :\n",
      "len(Temp[-1 , : ]) !=2 :\n",
      "executed assign_initial_boundary_conditions\n",
      "using calculated velocity profile\n",
      "executed set_vertical_velocity\n"
     ]
    },
    {
     "name": "stderr",
     "output_type": "stream",
     "text": [
      "100%|██████████████████████████████████| 15983/15983 [00:00<00:00, 30408.13it/s]\n"
     ]
    },
    {
     "name": "stdout",
     "output_type": "stream",
     "text": [
      "\n",
      "end of diffusion_advection_FD(), time taken: 0.5282425880432129\n",
      "In diffusion_advection_FD_full_matrix()\n",
      "len(Temp[0 , : ]) !=2 :\n",
      "len(Temp[-1 , : ]) !=2 :\n",
      "executed assign_initial_boundary_conditions\n",
      "using calculated velocity profile\n",
      "executed set_vertical_velocity\n"
     ]
    },
    {
     "name": "stderr",
     "output_type": "stream",
     "text": [
      "100%|██████████████████████████████████| 15983/15983 [00:00<00:00, 30445.49it/s]\n"
     ]
    },
    {
     "name": "stdout",
     "output_type": "stream",
     "text": [
      "\n",
      "end of diffusion_advection_FD(), time taken: 0.527686357498169\n",
      "In diffusion_advection_FD_full_matrix()\n",
      "len(Temp[0 , : ]) !=2 :\n",
      "len(Temp[-1 , : ]) !=2 :\n",
      "executed assign_initial_boundary_conditions\n",
      "using calculated velocity profile\n",
      "executed set_vertical_velocity\n"
     ]
    },
    {
     "name": "stderr",
     "output_type": "stream",
     "text": [
      "100%|██████████████████████████████████| 15983/15983 [00:00<00:00, 30266.56it/s]\n"
     ]
    },
    {
     "name": "stdout",
     "output_type": "stream",
     "text": [
      "\n",
      "end of diffusion_advection_FD(), time taken: 0.5307331085205078\n",
      "In diffusion_advection_FD_full_matrix()\n",
      "len(Temp[0 , : ]) !=2 :\n",
      "len(Temp[-1 , : ]) !=2 :\n",
      "executed assign_initial_boundary_conditions\n",
      "using calculated velocity profile\n",
      "executed set_vertical_velocity\n"
     ]
    },
    {
     "name": "stderr",
     "output_type": "stream",
     "text": [
      "100%|██████████████████████████████████| 15983/15983 [00:00<00:00, 29998.11it/s]\n"
     ]
    },
    {
     "name": "stdout",
     "output_type": "stream",
     "text": [
      "\n",
      "end of diffusion_advection_FD(), time taken: 0.5354688167572021\n",
      "In diffusion_advection_FD_full_matrix()\n",
      "len(Temp[0 , : ]) !=2 :\n",
      "len(Temp[-1 , : ]) !=2 :\n",
      "executed assign_initial_boundary_conditions\n",
      "using calculated velocity profile\n",
      "executed set_vertical_velocity\n"
     ]
    },
    {
     "name": "stderr",
     "output_type": "stream",
     "text": [
      "100%|██████████████████████████████████| 15983/15983 [00:00<00:00, 29269.60it/s]"
     ]
    },
    {
     "name": "stdout",
     "output_type": "stream",
     "text": [
      "\n",
      "end of diffusion_advection_FD(), time taken: 0.5487375259399414\n"
     ]
    },
    {
     "name": "stderr",
     "output_type": "stream",
     "text": [
      "\n"
     ]
    }
   ],
   "source": [
    "T_PolarAmplification30 = np.genfromtxt(fname='data/GRIP_T_PolarAmplification3.beta0.txt')\n",
    "\n",
    "time_points=[]\n",
    "for i in range (1000):#maxtime\n",
    "    time_points.append(i)\n",
    "velocity=[]\n",
    "\n",
    "PA30_simulation_10=np.zeros((no_of_profiles,ic.shape[0]))\n",
    "PA30_surfaceTem_10=np.zeros((no_of_profiles,time_grid))\n",
    "\n",
    "for k in range(no_of_profiles):#no. of profiles\n",
    "    TPA_data=[]\n",
    "    for i in range (1000):#maxtime\n",
    "        TPA_data.append(T_PolarAmplification30[i][k])\n",
    "    top_boundary=interpolate_linear(x_ref=time_points,y_ref=TPA_data,x_req=time_req)\n",
    "    PA30_surfaceTem_10[k,:]=top_boundary\n",
    "    bottom_boundary=Tb\n",
    "\n",
    "    case_TPA_data=get_solution_using_FD(max_depth, max_time, dz_approx, dt_approx, \n",
    "                                        borehole3000_depths, borehole3000_densityProf,\n",
    "                                        velocity,ic,top_boundary,Tb,alpha,ws, wb,m)\n",
    "    PA30_simulation_10[k,:]=case_TPA_data.T[:,-1]\n",
    "    "
   ]
  },
  {
   "cell_type": "raw",
   "id": "908f38b2",
   "metadata": {},
   "source": [
    "np.save('../Sensor placements/data_borehole_simulations/GRIP_simulations/GRIP_PA30_surfaceTem_10',PA30_surfaceTem_10)\n",
    "np.save('../Sensor placements/data_borehole_simulations/GRIP_simulations/GRIP_PA30_simulation_10',PA30_simulation_10)"
   ]
  },
  {
   "cell_type": "code",
   "execution_count": 16,
   "id": "a39964b0",
   "metadata": {},
   "outputs": [
    {
     "name": "stdout",
     "output_type": "stream",
     "text": [
      "In diffusion_advection_FD_full_matrix()\n",
      "len(Temp[0 , : ]) !=2 :\n",
      "len(Temp[-1 , : ]) !=2 :\n",
      "executed assign_initial_boundary_conditions\n",
      "using calculated velocity profile\n",
      "executed set_vertical_velocity\n"
     ]
    },
    {
     "name": "stderr",
     "output_type": "stream",
     "text": [
      "100%|██████████████████████████████████| 15983/15983 [00:00<00:00, 30482.73it/s]\n"
     ]
    },
    {
     "name": "stdout",
     "output_type": "stream",
     "text": [
      "\n",
      "end of diffusion_advection_FD(), time taken: 0.5274569988250732\n",
      "In diffusion_advection_FD_full_matrix()\n",
      "len(Temp[0 , : ]) !=2 :\n",
      "len(Temp[-1 , : ]) !=2 :\n",
      "executed assign_initial_boundary_conditions\n",
      "using calculated velocity profile\n",
      "executed set_vertical_velocity\n"
     ]
    },
    {
     "name": "stderr",
     "output_type": "stream",
     "text": [
      "100%|██████████████████████████████████| 15983/15983 [00:00<00:00, 30246.67it/s]\n"
     ]
    },
    {
     "name": "stdout",
     "output_type": "stream",
     "text": [
      "\n",
      "end of diffusion_advection_FD(), time taken: 0.5311498641967773\n",
      "In diffusion_advection_FD_full_matrix()\n",
      "len(Temp[0 , : ]) !=2 :\n",
      "len(Temp[-1 , : ]) !=2 :\n",
      "executed assign_initial_boundary_conditions\n",
      "using calculated velocity profile\n",
      "executed set_vertical_velocity\n"
     ]
    },
    {
     "name": "stderr",
     "output_type": "stream",
     "text": [
      "100%|██████████████████████████████████| 15983/15983 [00:00<00:00, 29699.70it/s]\n"
     ]
    },
    {
     "name": "stdout",
     "output_type": "stream",
     "text": [
      "\n",
      "end of diffusion_advection_FD(), time taken: 0.5407843589782715\n",
      "In diffusion_advection_FD_full_matrix()\n",
      "len(Temp[0 , : ]) !=2 :\n",
      "len(Temp[-1 , : ]) !=2 :\n",
      "executed assign_initial_boundary_conditions\n",
      "using calculated velocity profile\n",
      "executed set_vertical_velocity\n"
     ]
    },
    {
     "name": "stderr",
     "output_type": "stream",
     "text": [
      "100%|██████████████████████████████████| 15983/15983 [00:00<00:00, 29950.60it/s]\n"
     ]
    },
    {
     "name": "stdout",
     "output_type": "stream",
     "text": [
      "\n",
      "end of diffusion_advection_FD(), time taken: 0.5363543033599854\n",
      "In diffusion_advection_FD_full_matrix()\n",
      "len(Temp[0 , : ]) !=2 :\n",
      "len(Temp[-1 , : ]) !=2 :\n",
      "executed assign_initial_boundary_conditions\n",
      "using calculated velocity profile\n",
      "executed set_vertical_velocity\n"
     ]
    },
    {
     "name": "stderr",
     "output_type": "stream",
     "text": [
      "100%|██████████████████████████████████| 15983/15983 [00:00<00:00, 30124.16it/s]\n"
     ]
    },
    {
     "name": "stdout",
     "output_type": "stream",
     "text": [
      "\n",
      "end of diffusion_advection_FD(), time taken: 0.5332636833190918\n",
      "In diffusion_advection_FD_full_matrix()\n",
      "len(Temp[0 , : ]) !=2 :\n",
      "len(Temp[-1 , : ]) !=2 :\n",
      "executed assign_initial_boundary_conditions\n",
      "using calculated velocity profile\n",
      "executed set_vertical_velocity\n"
     ]
    },
    {
     "name": "stderr",
     "output_type": "stream",
     "text": [
      "100%|██████████████████████████████████| 15983/15983 [00:00<00:00, 29912.09it/s]\n"
     ]
    },
    {
     "name": "stdout",
     "output_type": "stream",
     "text": [
      "\n",
      "end of diffusion_advection_FD(), time taken: 0.537163496017456\n",
      "In diffusion_advection_FD_full_matrix()\n",
      "len(Temp[0 , : ]) !=2 :\n",
      "len(Temp[-1 , : ]) !=2 :\n",
      "executed assign_initial_boundary_conditions\n",
      "using calculated velocity profile\n",
      "executed set_vertical_velocity\n"
     ]
    },
    {
     "name": "stderr",
     "output_type": "stream",
     "text": [
      "100%|██████████████████████████████████| 15983/15983 [00:00<00:00, 30049.80it/s]\n"
     ]
    },
    {
     "name": "stdout",
     "output_type": "stream",
     "text": [
      "\n",
      "end of diffusion_advection_FD(), time taken: 0.5347659587860107\n",
      "In diffusion_advection_FD_full_matrix()\n",
      "len(Temp[0 , : ]) !=2 :\n",
      "len(Temp[-1 , : ]) !=2 :\n",
      "executed assign_initial_boundary_conditions\n",
      "using calculated velocity profile\n",
      "executed set_vertical_velocity\n"
     ]
    },
    {
     "name": "stderr",
     "output_type": "stream",
     "text": [
      "100%|██████████████████████████████████| 15983/15983 [00:00<00:00, 29805.59it/s]\n"
     ]
    },
    {
     "name": "stdout",
     "output_type": "stream",
     "text": [
      "\n",
      "end of diffusion_advection_FD(), time taken: 0.5390536785125732\n",
      "In diffusion_advection_FD_full_matrix()\n",
      "len(Temp[0 , : ]) !=2 :\n",
      "len(Temp[-1 , : ]) !=2 :\n",
      "executed assign_initial_boundary_conditions\n",
      "using calculated velocity profile\n",
      "executed set_vertical_velocity\n"
     ]
    },
    {
     "name": "stderr",
     "output_type": "stream",
     "text": [
      "100%|██████████████████████████████████| 15983/15983 [00:00<00:00, 29782.53it/s]\n"
     ]
    },
    {
     "name": "stdout",
     "output_type": "stream",
     "text": [
      "\n",
      "end of diffusion_advection_FD(), time taken: 0.5393457412719727\n",
      "In diffusion_advection_FD_full_matrix()\n",
      "len(Temp[0 , : ]) !=2 :\n",
      "len(Temp[-1 , : ]) !=2 :\n",
      "executed assign_initial_boundary_conditions\n",
      "using calculated velocity profile\n",
      "executed set_vertical_velocity\n"
     ]
    },
    {
     "name": "stderr",
     "output_type": "stream",
     "text": [
      "100%|██████████████████████████████████| 15983/15983 [00:00<00:00, 29685.77it/s]"
     ]
    },
    {
     "name": "stdout",
     "output_type": "stream",
     "text": [
      "\n",
      "end of diffusion_advection_FD(), time taken: 0.5410702228546143\n"
     ]
    },
    {
     "name": "stderr",
     "output_type": "stream",
     "text": [
      "\n"
     ]
    }
   ],
   "source": [
    "T_PolarAmplification31 = np.genfromtxt(fname='data/GRIP_T_PolarAmplification3.beta1.txt')\n",
    "\n",
    "time_points=[]\n",
    "for i in range (1000):#maxtime\n",
    "    time_points.append(i)\n",
    "velocity=[]\n",
    "\n",
    "PA31_simulation_10=np.zeros((no_of_profiles,ic.shape[0]))\n",
    "PA31_surfaceTem_10=np.zeros((no_of_profiles,time_grid))\n",
    "\n",
    "for k in range(no_of_profiles):#no. of profiles\n",
    "    TPA_data=[]\n",
    "    for i in range (1000):#maxtime\n",
    "        TPA_data.append(T_PolarAmplification31[i][k])\n",
    "    top_boundary=interpolate_linear(x_ref=time_points,y_ref=TPA_data,x_req=time_req)\n",
    "    PA31_surfaceTem_10[k,:]=top_boundary\n",
    "    bottom_boundary=Tb\n",
    "\n",
    "    case_TPA_data=get_solution_using_FD(max_depth, max_time, dz_approx, dt_approx, \n",
    "                                        borehole3000_depths, borehole3000_densityProf,\n",
    "                                        velocity,ic,top_boundary,Tb,alpha,ws, wb,m)\n",
    "    PA31_simulation_10[k,:]=case_TPA_data.T[:,-1]"
   ]
  },
  {
   "cell_type": "raw",
   "id": "b76335d2",
   "metadata": {},
   "source": [
    "np.save('../Sensor placements/data_borehole_simulations/GRIP_simulations/GRIP_PA31_surfaceTem_10',PA31_surfaceTem_10)\n",
    "np.save('../Sensor placements/data_borehole_simulations/GRIP_simulations/GRIP_PA31_simulation_10',PA31_simulation_10)"
   ]
  },
  {
   "cell_type": "code",
   "execution_count": 18,
   "id": "31df4541",
   "metadata": {},
   "outputs": [
    {
     "name": "stdout",
     "output_type": "stream",
     "text": [
      "In diffusion_advection_FD_full_matrix()\n",
      "len(Temp[0 , : ]) !=2 :\n",
      "len(Temp[-1 , : ]) !=2 :\n",
      "executed assign_initial_boundary_conditions\n",
      "using calculated velocity profile\n",
      "executed set_vertical_velocity\n"
     ]
    },
    {
     "name": "stderr",
     "output_type": "stream",
     "text": [
      "100%|██████████████████████████████████| 15983/15983 [00:00<00:00, 29952.31it/s]\n"
     ]
    },
    {
     "name": "stdout",
     "output_type": "stream",
     "text": [
      "\n",
      "end of diffusion_advection_FD(), time taken: 0.5368211269378662\n",
      "In diffusion_advection_FD_full_matrix()\n",
      "len(Temp[0 , : ]) !=2 :\n",
      "len(Temp[-1 , : ]) !=2 :\n",
      "executed assign_initial_boundary_conditions\n",
      "using calculated velocity profile\n",
      "executed set_vertical_velocity\n"
     ]
    },
    {
     "name": "stderr",
     "output_type": "stream",
     "text": [
      "100%|██████████████████████████████████| 15983/15983 [00:00<00:00, 29956.40it/s]\n"
     ]
    },
    {
     "name": "stdout",
     "output_type": "stream",
     "text": [
      "\n",
      "end of diffusion_advection_FD(), time taken: 0.5362160205841064\n",
      "In diffusion_advection_FD_full_matrix()\n",
      "len(Temp[0 , : ]) !=2 :\n",
      "len(Temp[-1 , : ]) !=2 :\n",
      "executed assign_initial_boundary_conditions\n",
      "using calculated velocity profile\n",
      "executed set_vertical_velocity\n"
     ]
    },
    {
     "name": "stderr",
     "output_type": "stream",
     "text": [
      "100%|██████████████████████████████████| 15983/15983 [00:00<00:00, 29683.48it/s]\n"
     ]
    },
    {
     "name": "stdout",
     "output_type": "stream",
     "text": [
      "\n",
      "end of diffusion_advection_FD(), time taken: 0.5412249565124512\n",
      "In diffusion_advection_FD_full_matrix()\n",
      "len(Temp[0 , : ]) !=2 :\n",
      "len(Temp[-1 , : ]) !=2 :\n",
      "executed assign_initial_boundary_conditions\n",
      "using calculated velocity profile\n",
      "executed set_vertical_velocity\n"
     ]
    },
    {
     "name": "stderr",
     "output_type": "stream",
     "text": [
      "100%|██████████████████████████████████| 15983/15983 [00:00<00:00, 29817.82it/s]\n"
     ]
    },
    {
     "name": "stdout",
     "output_type": "stream",
     "text": [
      "\n",
      "end of diffusion_advection_FD(), time taken: 0.5389397144317627\n",
      "In diffusion_advection_FD_full_matrix()\n",
      "len(Temp[0 , : ]) !=2 :\n",
      "len(Temp[-1 , : ]) !=2 :\n",
      "executed assign_initial_boundary_conditions\n",
      "using calculated velocity profile\n",
      "executed set_vertical_velocity\n"
     ]
    },
    {
     "name": "stderr",
     "output_type": "stream",
     "text": [
      "100%|██████████████████████████████████| 15983/15983 [00:00<00:00, 28928.81it/s]\n"
     ]
    },
    {
     "name": "stdout",
     "output_type": "stream",
     "text": [
      "\n",
      "end of diffusion_advection_FD(), time taken: 0.5555825233459473\n",
      "In diffusion_advection_FD_full_matrix()\n",
      "len(Temp[0 , : ]) !=2 :\n",
      "len(Temp[-1 , : ]) !=2 :\n",
      "executed assign_initial_boundary_conditions\n",
      "using calculated velocity profile\n",
      "executed set_vertical_velocity\n"
     ]
    },
    {
     "name": "stderr",
     "output_type": "stream",
     "text": [
      "100%|██████████████████████████████████| 15983/15983 [00:00<00:00, 29164.95it/s]\n"
     ]
    },
    {
     "name": "stdout",
     "output_type": "stream",
     "text": [
      "\n",
      "end of diffusion_advection_FD(), time taken: 0.5510461330413818\n",
      "In diffusion_advection_FD_full_matrix()\n",
      "len(Temp[0 , : ]) !=2 :\n",
      "len(Temp[-1 , : ]) !=2 :\n",
      "executed assign_initial_boundary_conditions\n",
      "using calculated velocity profile\n",
      "executed set_vertical_velocity\n"
     ]
    },
    {
     "name": "stderr",
     "output_type": "stream",
     "text": [
      "100%|██████████████████████████████████| 15983/15983 [00:00<00:00, 28389.96it/s]\n"
     ]
    },
    {
     "name": "stdout",
     "output_type": "stream",
     "text": [
      "\n",
      "end of diffusion_advection_FD(), time taken: 0.5659844875335693\n",
      "In diffusion_advection_FD_full_matrix()\n",
      "len(Temp[0 , : ]) !=2 :\n",
      "len(Temp[-1 , : ]) !=2 :\n",
      "executed assign_initial_boundary_conditions\n",
      "using calculated velocity profile\n",
      "executed set_vertical_velocity\n"
     ]
    },
    {
     "name": "stderr",
     "output_type": "stream",
     "text": [
      "100%|██████████████████████████████████| 15983/15983 [00:00<00:00, 28893.69it/s]\n"
     ]
    },
    {
     "name": "stdout",
     "output_type": "stream",
     "text": [
      "\n",
      "end of diffusion_advection_FD(), time taken: 0.5560705661773682\n",
      "In diffusion_advection_FD_full_matrix()\n",
      "len(Temp[0 , : ]) !=2 :\n",
      "len(Temp[-1 , : ]) !=2 :\n",
      "executed assign_initial_boundary_conditions\n",
      "using calculated velocity profile\n",
      "executed set_vertical_velocity\n"
     ]
    },
    {
     "name": "stderr",
     "output_type": "stream",
     "text": [
      "100%|██████████████████████████████████| 15983/15983 [00:00<00:00, 28950.53it/s]\n"
     ]
    },
    {
     "name": "stdout",
     "output_type": "stream",
     "text": [
      "\n",
      "end of diffusion_advection_FD(), time taken: 0.5549576282501221\n",
      "In diffusion_advection_FD_full_matrix()\n",
      "len(Temp[0 , : ]) !=2 :\n",
      "len(Temp[-1 , : ]) !=2 :\n",
      "executed assign_initial_boundary_conditions\n",
      "using calculated velocity profile\n",
      "executed set_vertical_velocity\n"
     ]
    },
    {
     "name": "stderr",
     "output_type": "stream",
     "text": [
      "100%|██████████████████████████████████| 15983/15983 [00:00<00:00, 28372.38it/s]"
     ]
    },
    {
     "name": "stdout",
     "output_type": "stream",
     "text": [
      "\n",
      "end of diffusion_advection_FD(), time taken: 0.5663402080535889\n"
     ]
    },
    {
     "name": "stderr",
     "output_type": "stream",
     "text": [
      "\n"
     ]
    }
   ],
   "source": [
    "T_PolarAmplification1_6 = np.genfromtxt(fname='data/GRIP_T_PolarAmplification1.beta06.txt')\n",
    "\n",
    "time_points=[]\n",
    "for i in range (1000):#maxtime\n",
    "    time_points.append(i)\n",
    "velocity=[]\n",
    "\n",
    "PA1_6_simulation_10=np.zeros((no_of_profiles,ic.shape[0]))\n",
    "PA1_6_surfaceTem_10=np.zeros((no_of_profiles,time_grid))\n",
    "\n",
    "for k in range(no_of_profiles):#no. of profiles\n",
    "    TPA_data=[]\n",
    "    for i in range (1000):#maxtime\n",
    "        TPA_data.append(T_PolarAmplification1_6[i][k])\n",
    "    top_boundary=interpolate_linear(x_ref=time_points,y_ref=TPA_data,x_req=time_req)\n",
    "    PA1_6_surfaceTem_10[k,:]=top_boundary\n",
    "    bottom_boundary=Tb\n",
    "\n",
    "    case_TPA_data=get_solution_using_FD(max_depth, max_time, dz_approx, dt_approx, \n",
    "                                        borehole3000_depths, borehole3000_densityProf,\n",
    "                                        velocity,ic,top_boundary,Tb,alpha,ws, wb,m)\n",
    "    PA1_6_simulation_10[k,:]=case_TPA_data.T[:,-1]"
   ]
  },
  {
   "cell_type": "raw",
   "id": "6fec265b",
   "metadata": {},
   "source": [
    "np.save('../Sensor placements/data_borehole_simulations/GRIP_simulations/GRIP_PA1_6_surfaceTem_10',PA1_6_surfaceTem_10)\n",
    "np.save('../Sensor placements/data_borehole_simulations/GRIP_simulations/GRIP_PA1_6_simulation_10',PA1_6_simulation_10)"
   ]
  },
  {
   "cell_type": "code",
   "execution_count": 20,
   "id": "a36e916b",
   "metadata": {},
   "outputs": [
    {
     "name": "stdout",
     "output_type": "stream",
     "text": [
      "In diffusion_advection_FD_full_matrix()\n",
      "len(Temp[0 , : ]) !=2 :\n",
      "len(Temp[-1 , : ]) !=2 :\n",
      "executed assign_initial_boundary_conditions\n",
      "using calculated velocity profile\n",
      "executed set_vertical_velocity\n"
     ]
    },
    {
     "name": "stderr",
     "output_type": "stream",
     "text": [
      "100%|██████████████████████████████████| 15983/15983 [00:00<00:00, 29055.73it/s]\n"
     ]
    },
    {
     "name": "stdout",
     "output_type": "stream",
     "text": [
      "\n",
      "end of diffusion_advection_FD(), time taken: 0.5533647537231445\n",
      "In diffusion_advection_FD_full_matrix()\n",
      "len(Temp[0 , : ]) !=2 :\n",
      "len(Temp[-1 , : ]) !=2 :\n",
      "executed assign_initial_boundary_conditions\n",
      "using calculated velocity profile\n",
      "executed set_vertical_velocity\n"
     ]
    },
    {
     "name": "stderr",
     "output_type": "stream",
     "text": [
      "100%|██████████████████████████████████| 15983/15983 [00:00<00:00, 28625.12it/s]\n"
     ]
    },
    {
     "name": "stdout",
     "output_type": "stream",
     "text": [
      "\n",
      "end of diffusion_advection_FD(), time taken: 0.5612759590148926\n",
      "In diffusion_advection_FD_full_matrix()\n",
      "len(Temp[0 , : ]) !=2 :\n",
      "len(Temp[-1 , : ]) !=2 :\n",
      "executed assign_initial_boundary_conditions\n",
      "using calculated velocity profile\n",
      "executed set_vertical_velocity\n"
     ]
    },
    {
     "name": "stderr",
     "output_type": "stream",
     "text": [
      "100%|██████████████████████████████████| 15983/15983 [00:00<00:00, 29103.05it/s]\n"
     ]
    },
    {
     "name": "stdout",
     "output_type": "stream",
     "text": [
      "\n",
      "end of diffusion_advection_FD(), time taken: 0.552304744720459\n",
      "In diffusion_advection_FD_full_matrix()\n",
      "len(Temp[0 , : ]) !=2 :\n",
      "len(Temp[-1 , : ]) !=2 :\n",
      "executed assign_initial_boundary_conditions\n",
      "using calculated velocity profile\n",
      "executed set_vertical_velocity\n"
     ]
    },
    {
     "name": "stderr",
     "output_type": "stream",
     "text": [
      "100%|██████████████████████████████████| 15983/15983 [00:00<00:00, 29299.61it/s]\n"
     ]
    },
    {
     "name": "stdout",
     "output_type": "stream",
     "text": [
      "\n",
      "end of diffusion_advection_FD(), time taken: 0.548541784286499\n",
      "In diffusion_advection_FD_full_matrix()\n",
      "len(Temp[0 , : ]) !=2 :\n",
      "len(Temp[-1 , : ]) !=2 :\n",
      "executed assign_initial_boundary_conditions\n",
      "using calculated velocity profile\n",
      "executed set_vertical_velocity\n"
     ]
    },
    {
     "name": "stderr",
     "output_type": "stream",
     "text": [
      "100%|██████████████████████████████████| 15983/15983 [00:00<00:00, 29044.47it/s]\n"
     ]
    },
    {
     "name": "stdout",
     "output_type": "stream",
     "text": [
      "\n",
      "end of diffusion_advection_FD(), time taken: 0.5532641410827637\n",
      "In diffusion_advection_FD_full_matrix()\n",
      "len(Temp[0 , : ]) !=2 :\n",
      "len(Temp[-1 , : ]) !=2 :\n",
      "executed assign_initial_boundary_conditions\n",
      "using calculated velocity profile\n",
      "executed set_vertical_velocity\n"
     ]
    },
    {
     "name": "stderr",
     "output_type": "stream",
     "text": [
      "100%|██████████████████████████████████| 15983/15983 [00:00<00:00, 29353.31it/s]\n"
     ]
    },
    {
     "name": "stdout",
     "output_type": "stream",
     "text": [
      "\n",
      "end of diffusion_advection_FD(), time taken: 0.5474424362182617\n",
      "In diffusion_advection_FD_full_matrix()\n",
      "len(Temp[0 , : ]) !=2 :\n",
      "len(Temp[-1 , : ]) !=2 :\n",
      "executed assign_initial_boundary_conditions\n",
      "using calculated velocity profile\n",
      "executed set_vertical_velocity\n"
     ]
    },
    {
     "name": "stderr",
     "output_type": "stream",
     "text": [
      "100%|██████████████████████████████████| 15983/15983 [00:00<00:00, 28656.23it/s]\n"
     ]
    },
    {
     "name": "stdout",
     "output_type": "stream",
     "text": [
      "\n",
      "end of diffusion_advection_FD(), time taken: 0.5606522560119629\n",
      "In diffusion_advection_FD_full_matrix()\n",
      "len(Temp[0 , : ]) !=2 :\n",
      "len(Temp[-1 , : ]) !=2 :\n",
      "executed assign_initial_boundary_conditions\n",
      "using calculated velocity profile\n",
      "executed set_vertical_velocity\n"
     ]
    },
    {
     "name": "stderr",
     "output_type": "stream",
     "text": [
      "100%|██████████████████████████████████| 15983/15983 [00:00<00:00, 28626.82it/s]\n"
     ]
    },
    {
     "name": "stdout",
     "output_type": "stream",
     "text": [
      "\n",
      "end of diffusion_advection_FD(), time taken: 0.5611934661865234\n",
      "In diffusion_advection_FD_full_matrix()\n",
      "len(Temp[0 , : ]) !=2 :\n",
      "len(Temp[-1 , : ]) !=2 :\n",
      "executed assign_initial_boundary_conditions\n",
      "using calculated velocity profile\n",
      "executed set_vertical_velocity\n"
     ]
    },
    {
     "name": "stderr",
     "output_type": "stream",
     "text": [
      "100%|██████████████████████████████████| 15983/15983 [00:00<00:00, 28487.42it/s]\n"
     ]
    },
    {
     "name": "stdout",
     "output_type": "stream",
     "text": [
      "\n",
      "end of diffusion_advection_FD(), time taken: 0.5639851093292236\n",
      "In diffusion_advection_FD_full_matrix()\n",
      "len(Temp[0 , : ]) !=2 :\n",
      "len(Temp[-1 , : ]) !=2 :\n",
      "executed assign_initial_boundary_conditions\n",
      "using calculated velocity profile\n",
      "executed set_vertical_velocity\n"
     ]
    },
    {
     "name": "stderr",
     "output_type": "stream",
     "text": [
      "100%|██████████████████████████████████| 15983/15983 [00:00<00:00, 28903.30it/s]"
     ]
    },
    {
     "name": "stdout",
     "output_type": "stream",
     "text": [
      "\n",
      "end of diffusion_advection_FD(), time taken: 0.5558240413665771\n"
     ]
    },
    {
     "name": "stderr",
     "output_type": "stream",
     "text": [
      "\n"
     ]
    }
   ],
   "source": [
    "T_PolarAmplification2_6 = np.genfromtxt(fname='data/GRIP_T_PolarAmplification2.beta06.txt')\n",
    "\n",
    "time_points=[]\n",
    "for i in range (1000):#maxtime\n",
    "    time_points.append(i)\n",
    "velocity=[]\n",
    "\n",
    "PA2_6_simulation_10=np.zeros((no_of_profiles,ic.shape[0]))\n",
    "PA2_6_surfaceTem_10=np.zeros((no_of_profiles,time_grid))\n",
    "\n",
    "for k in range(no_of_profiles):#no. of profiles\n",
    "    TPA_data=[]\n",
    "    for i in range (1000):#maxtime\n",
    "        TPA_data.append(T_PolarAmplification2_6[i][k])\n",
    "    top_boundary=interpolate_linear(x_ref=time_points,y_ref=TPA_data,x_req=time_req)\n",
    "    PA2_6_surfaceTem_10[k,:]=top_boundary\n",
    "    bottom_boundary=Tb\n",
    "\n",
    "    case_TPA_data=get_solution_using_FD(max_depth, max_time, dz_approx, dt_approx, \n",
    "                                        borehole3000_depths, borehole3000_densityProf,\n",
    "                                        velocity,ic,top_boundary,Tb,alpha,ws, wb,m)\n",
    "    PA2_6_simulation_10[k,:]=case_TPA_data.T[:,-1]"
   ]
  },
  {
   "cell_type": "raw",
   "id": "646d8e75",
   "metadata": {},
   "source": [
    "np.save('../Sensor placements/data_borehole_simulations/GRIP_simulations/GRIP_PA2_6_surfaceTem_10',PA2_6_surfaceTem_10)\n",
    "np.save('../Sensor placements/data_borehole_simulations/GRIP_simulations/GRIP_PA2_6_simulation_10',PA2_6_simulation_10)"
   ]
  },
  {
   "cell_type": "code",
   "execution_count": 22,
   "id": "3e8f1a36",
   "metadata": {},
   "outputs": [
    {
     "name": "stdout",
     "output_type": "stream",
     "text": [
      "In diffusion_advection_FD_full_matrix()\n",
      "len(Temp[0 , : ]) !=2 :\n",
      "len(Temp[-1 , : ]) !=2 :\n",
      "executed assign_initial_boundary_conditions\n",
      "using calculated velocity profile\n",
      "executed set_vertical_velocity\n"
     ]
    },
    {
     "name": "stderr",
     "output_type": "stream",
     "text": [
      "100%|██████████████████████████████████| 15983/15983 [00:00<00:00, 29411.75it/s]\n"
     ]
    },
    {
     "name": "stdout",
     "output_type": "stream",
     "text": [
      "\n",
      "end of diffusion_advection_FD(), time taken: 0.546769380569458\n",
      "In diffusion_advection_FD_full_matrix()\n",
      "len(Temp[0 , : ]) !=2 :\n",
      "len(Temp[-1 , : ]) !=2 :\n",
      "executed assign_initial_boundary_conditions\n",
      "using calculated velocity profile\n",
      "executed set_vertical_velocity\n"
     ]
    },
    {
     "name": "stderr",
     "output_type": "stream",
     "text": [
      "100%|██████████████████████████████████| 15983/15983 [00:00<00:00, 28819.34it/s]\n"
     ]
    },
    {
     "name": "stdout",
     "output_type": "stream",
     "text": [
      "\n",
      "end of diffusion_advection_FD(), time taken: 0.5574567317962646\n",
      "In diffusion_advection_FD_full_matrix()\n",
      "len(Temp[0 , : ]) !=2 :\n",
      "len(Temp[-1 , : ]) !=2 :\n",
      "executed assign_initial_boundary_conditions\n",
      "using calculated velocity profile\n",
      "executed set_vertical_velocity\n"
     ]
    },
    {
     "name": "stderr",
     "output_type": "stream",
     "text": [
      "100%|██████████████████████████████████| 15983/15983 [00:00<00:00, 28681.85it/s]\n"
     ]
    },
    {
     "name": "stdout",
     "output_type": "stream",
     "text": [
      "\n",
      "end of diffusion_advection_FD(), time taken: 0.5601048469543457\n",
      "In diffusion_advection_FD_full_matrix()\n",
      "len(Temp[0 , : ]) !=2 :\n",
      "len(Temp[-1 , : ]) !=2 :\n",
      "executed assign_initial_boundary_conditions\n",
      "using calculated velocity profile\n",
      "executed set_vertical_velocity\n"
     ]
    },
    {
     "name": "stderr",
     "output_type": "stream",
     "text": [
      "100%|██████████████████████████████████| 15983/15983 [00:00<00:00, 29133.54it/s]\n"
     ]
    },
    {
     "name": "stdout",
     "output_type": "stream",
     "text": [
      "\n",
      "end of diffusion_advection_FD(), time taken: 0.5515201091766357\n",
      "In diffusion_advection_FD_full_matrix()\n",
      "len(Temp[0 , : ]) !=2 :\n",
      "len(Temp[-1 , : ]) !=2 :\n",
      "executed assign_initial_boundary_conditions\n",
      "using calculated velocity profile\n",
      "executed set_vertical_velocity\n"
     ]
    },
    {
     "name": "stderr",
     "output_type": "stream",
     "text": [
      "100%|██████████████████████████████████| 15983/15983 [00:00<00:00, 28654.62it/s]\n"
     ]
    },
    {
     "name": "stdout",
     "output_type": "stream",
     "text": [
      "\n",
      "end of diffusion_advection_FD(), time taken: 0.560683012008667\n",
      "In diffusion_advection_FD_full_matrix()\n",
      "len(Temp[0 , : ]) !=2 :\n",
      "len(Temp[-1 , : ]) !=2 :\n",
      "executed assign_initial_boundary_conditions\n",
      "using calculated velocity profile\n",
      "executed set_vertical_velocity\n"
     ]
    },
    {
     "name": "stderr",
     "output_type": "stream",
     "text": [
      "100%|██████████████████████████████████| 15983/15983 [00:00<00:00, 28965.68it/s]\n"
     ]
    },
    {
     "name": "stdout",
     "output_type": "stream",
     "text": [
      "\n",
      "end of diffusion_advection_FD(), time taken: 0.5546696186065674\n",
      "In diffusion_advection_FD_full_matrix()\n",
      "len(Temp[0 , : ]) !=2 :\n",
      "len(Temp[-1 , : ]) !=2 :\n",
      "executed assign_initial_boundary_conditions\n",
      "using calculated velocity profile\n",
      "executed set_vertical_velocity\n"
     ]
    },
    {
     "name": "stderr",
     "output_type": "stream",
     "text": [
      "100%|██████████████████████████████████| 15983/15983 [00:00<00:00, 29245.21it/s]\n"
     ]
    },
    {
     "name": "stdout",
     "output_type": "stream",
     "text": [
      "\n",
      "end of diffusion_advection_FD(), time taken: 0.5494070053100586\n",
      "In diffusion_advection_FD_full_matrix()\n",
      "len(Temp[0 , : ]) !=2 :\n",
      "len(Temp[-1 , : ]) !=2 :\n",
      "executed assign_initial_boundary_conditions\n",
      "using calculated velocity profile\n",
      "executed set_vertical_velocity\n"
     ]
    },
    {
     "name": "stderr",
     "output_type": "stream",
     "text": [
      "100%|██████████████████████████████████| 15983/15983 [00:00<00:00, 30420.04it/s]\n"
     ]
    },
    {
     "name": "stdout",
     "output_type": "stream",
     "text": [
      "\n",
      "end of diffusion_advection_FD(), time taken: 0.5282557010650635\n",
      "In diffusion_advection_FD_full_matrix()\n",
      "len(Temp[0 , : ]) !=2 :\n",
      "len(Temp[-1 , : ]) !=2 :\n",
      "executed assign_initial_boundary_conditions\n",
      "using calculated velocity profile\n",
      "executed set_vertical_velocity\n"
     ]
    },
    {
     "name": "stderr",
     "output_type": "stream",
     "text": [
      "100%|██████████████████████████████████| 15983/15983 [00:00<00:00, 30023.09it/s]\n"
     ]
    },
    {
     "name": "stdout",
     "output_type": "stream",
     "text": [
      "\n",
      "end of diffusion_advection_FD(), time taken: 0.5357024669647217\n",
      "In diffusion_advection_FD_full_matrix()\n",
      "len(Temp[0 , : ]) !=2 :\n",
      "len(Temp[-1 , : ]) !=2 :\n",
      "executed assign_initial_boundary_conditions\n",
      "using calculated velocity profile\n",
      "executed set_vertical_velocity\n"
     ]
    },
    {
     "name": "stderr",
     "output_type": "stream",
     "text": [
      "100%|██████████████████████████████████| 15983/15983 [00:00<00:00, 30717.40it/s]"
     ]
    },
    {
     "name": "stdout",
     "output_type": "stream",
     "text": [
      "\n",
      "end of diffusion_advection_FD(), time taken: 0.5229179859161377\n"
     ]
    },
    {
     "name": "stderr",
     "output_type": "stream",
     "text": [
      "\n"
     ]
    }
   ],
   "source": [
    "T_PolarAmplification3_6 = np.genfromtxt(fname='data/GRIP_T_PolarAmplification3.beta06.txt')\n",
    "\n",
    "time_points=[]\n",
    "for i in range (1000):#maxtime\n",
    "    time_points.append(i)\n",
    "velocity=[]\n",
    "\n",
    "PA3_6_simulation_10=np.zeros((no_of_profiles,ic.shape[0]))\n",
    "PA3_6_surfaceTem_10=np.zeros((no_of_profiles,time_grid))\n",
    "\n",
    "for k in range(no_of_profiles):#no. of profiles\n",
    "    TPA_data=[]\n",
    "    for i in range (1000):#maxtime\n",
    "        TPA_data.append(T_PolarAmplification3_6[i][k])\n",
    "    top_boundary=interpolate_linear(x_ref=time_points,y_ref=TPA_data,x_req=time_req)\n",
    "    PA3_6_surfaceTem_10[k,:]=top_boundary\n",
    "    bottom_boundary=Tb\n",
    "\n",
    "    case_TPA_data=get_solution_using_FD(max_depth, max_time, dz_approx, dt_approx, \n",
    "                                        borehole3000_depths, borehole3000_densityProf,\n",
    "                                        velocity,ic,top_boundary,Tb,alpha,ws, wb,m)\n",
    "    PA3_6_simulation_10[k,:]=case_TPA_data.T[:,-1]"
   ]
  },
  {
   "cell_type": "raw",
   "id": "6fc9cf49",
   "metadata": {},
   "source": [
    "np.save('../Sensor placements/data_borehole_simulations/GRIP_simulations/GRIP_PA3_6_surfaceTem_10',PA3_6_surfaceTem_10)\n",
    "np.save('../Sensor placements/data_borehole_simulations/GRIP_simulations/GRIP_PA3_6_simulation_10',PA3_6_simulation_10)"
   ]
  },
  {
   "cell_type": "raw",
   "id": "9c9cf66d",
   "metadata": {},
   "source": [
    "np.save('../Sensor placements/data_borehole_simulations/GRIP_simulations/GRIP_sample_depths_fwd',case_TPA_data.depths)\n",
    "np.save('../Sensor placements/data_borehole_simulations/GRIP_simulations/GRIP_sample_times_fwd',case_TPA_data.times)"
   ]
  },
  {
   "cell_type": "markdown",
   "id": "801f9f59",
   "metadata": {},
   "source": [
    "Data generation for discussion section"
   ]
  },
  {
   "cell_type": "markdown",
   "id": "8b64c086",
   "metadata": {},
   "source": [
    "1m/year advection extreme case "
   ]
  },
  {
   "cell_type": "code",
   "execution_count": 2,
   "id": "ec9ee98d",
   "metadata": {},
   "outputs": [],
   "source": [
    "GRIP=pd.read_excel('src/paper_site_densities.xlsx') \n",
    "borehole3000_densityProf_1m_ext=list(GRIP['den_GRIP_317_1000'].dropna())\n",
    "borehole3000_depths_1m_ext= list(GRIP['dep_GRIP_317_1000'].dropna())\n",
    "\n",
    "Ts=-31.7\n",
    "ws=1000 \n",
    "Tb=-9\n",
    "wb=0\n",
    "m=10\n",
    "alpha=2\n",
    "beta=0.5\n",
    "velocity=[]\n",
    "max_depth=3029\n",
    "max_time=500000\n",
    "dt_approx=2**-4\n",
    "dz_approx=2**2"
   ]
  },
  {
   "cell_type": "raw",
   "id": "a69d197f",
   "metadata": {},
   "source": [
    "ic=get_generate_IC_fixed_grid(max_depth, max_time, dz_approx, dt_approx, borehole3000_depths_1m_ext, borehole3000_densityProf_1m_ext,velocity,Ts,Tb,alpha,beta,ws, wb,m)\n",
    "\n",
    "np.save('src/ic_GRIP_ext1000ws',ic)"
   ]
  },
  {
   "cell_type": "code",
   "execution_count": 4,
   "id": "6546295f",
   "metadata": {},
   "outputs": [],
   "source": [
    "max_time=1000-1\n",
    "time_grid=int(max_time/dt_approx)\n",
    "time_req=np.linspace(0,max_time,time_grid)\n",
    "max_depth=3029\n",
    "\n",
    "ic=np.load('src/ic_GRIP_ext1000ws.npy',allow_pickle=True)"
   ]
  },
  {
   "cell_type": "code",
   "execution_count": 5,
   "id": "887b6b7f",
   "metadata": {},
   "outputs": [],
   "source": [
    "no_of_profiles=10"
   ]
  },
  {
   "cell_type": "code",
   "execution_count": 7,
   "id": "2aebdaf7",
   "metadata": {},
   "outputs": [
    {
     "name": "stdout",
     "output_type": "stream",
     "text": [
      "In diffusion_advection_FD_full_matrix()\n",
      "len(Temp[0 , : ]) !=2 :\n",
      "len(Temp[-1 , : ]) !=2 :\n",
      "executed assign_initial_boundary_conditions\n",
      "using calculated velocity profile\n",
      "executed set_vertical_velocity\n"
     ]
    },
    {
     "name": "stderr",
     "output_type": "stream",
     "text": [
      "100%|█████████████████████████████████████████████████████████████████████████████████████████████████████████████████████████| 15983/15983 [00:07<00:00, 2219.56it/s]\n"
     ]
    },
    {
     "name": "stdout",
     "output_type": "stream",
     "text": [
      "\n",
      "end of diffusion_advection_FD(), time taken: 7.238032341003418\n",
      "In diffusion_advection_FD_full_matrix()\n",
      "len(Temp[0 , : ]) !=2 :\n",
      "len(Temp[-1 , : ]) !=2 :\n",
      "executed assign_initial_boundary_conditions\n",
      "using calculated velocity profile\n",
      "executed set_vertical_velocity\n"
     ]
    },
    {
     "name": "stderr",
     "output_type": "stream",
     "text": [
      "100%|█████████████████████████████████████████████████████████████████████████████████████████████████████████████████████████| 15983/15983 [00:07<00:00, 2248.07it/s]\n"
     ]
    },
    {
     "name": "stdout",
     "output_type": "stream",
     "text": [
      "\n",
      "end of diffusion_advection_FD(), time taken: 7.148867607116699\n",
      "In diffusion_advection_FD_full_matrix()\n",
      "len(Temp[0 , : ]) !=2 :\n",
      "len(Temp[-1 , : ]) !=2 :\n",
      "executed assign_initial_boundary_conditions\n",
      "using calculated velocity profile\n",
      "executed set_vertical_velocity\n"
     ]
    },
    {
     "name": "stderr",
     "output_type": "stream",
     "text": [
      "100%|█████████████████████████████████████████████████████████████████████████████████████████████████████████████████████████| 15983/15983 [00:07<00:00, 2220.61it/s]\n"
     ]
    },
    {
     "name": "stdout",
     "output_type": "stream",
     "text": [
      "\n",
      "end of diffusion_advection_FD(), time taken: 7.232901096343994\n",
      "In diffusion_advection_FD_full_matrix()\n",
      "len(Temp[0 , : ]) !=2 :\n",
      "len(Temp[-1 , : ]) !=2 :\n",
      "executed assign_initial_boundary_conditions\n",
      "using calculated velocity profile\n",
      "executed set_vertical_velocity\n"
     ]
    },
    {
     "name": "stderr",
     "output_type": "stream",
     "text": [
      "100%|█████████████████████████████████████████████████████████████████████████████████████████████████████████████████████████| 15983/15983 [00:07<00:00, 2227.57it/s]\n"
     ]
    },
    {
     "name": "stdout",
     "output_type": "stream",
     "text": [
      "\n",
      "end of diffusion_advection_FD(), time taken: 7.211130380630493\n",
      "In diffusion_advection_FD_full_matrix()\n",
      "len(Temp[0 , : ]) !=2 :\n",
      "len(Temp[-1 , : ]) !=2 :\n",
      "executed assign_initial_boundary_conditions\n",
      "using calculated velocity profile\n",
      "executed set_vertical_velocity\n"
     ]
    },
    {
     "name": "stderr",
     "output_type": "stream",
     "text": [
      "100%|█████████████████████████████████████████████████████████████████████████████████████████████████████████████████████████| 15983/15983 [00:07<00:00, 2204.52it/s]\n"
     ]
    },
    {
     "name": "stdout",
     "output_type": "stream",
     "text": [
      "\n",
      "end of diffusion_advection_FD(), time taken: 7.286947250366211\n",
      "In diffusion_advection_FD_full_matrix()\n",
      "len(Temp[0 , : ]) !=2 :\n",
      "len(Temp[-1 , : ]) !=2 :\n",
      "executed assign_initial_boundary_conditions\n",
      "using calculated velocity profile\n",
      "executed set_vertical_velocity\n"
     ]
    },
    {
     "name": "stderr",
     "output_type": "stream",
     "text": [
      "100%|█████████████████████████████████████████████████████████████████████████████████████████████████████████████████████████| 15983/15983 [00:07<00:00, 2253.35it/s]\n"
     ]
    },
    {
     "name": "stdout",
     "output_type": "stream",
     "text": [
      "\n",
      "end of diffusion_advection_FD(), time taken: 7.128345251083374\n",
      "In diffusion_advection_FD_full_matrix()\n",
      "len(Temp[0 , : ]) !=2 :\n",
      "len(Temp[-1 , : ]) !=2 :\n",
      "executed assign_initial_boundary_conditions\n",
      "using calculated velocity profile\n",
      "executed set_vertical_velocity\n"
     ]
    },
    {
     "name": "stderr",
     "output_type": "stream",
     "text": [
      "100%|█████████████████████████████████████████████████████████████████████████████████████████████████████████████████████████| 15983/15983 [00:07<00:00, 2219.93it/s]\n"
     ]
    },
    {
     "name": "stdout",
     "output_type": "stream",
     "text": [
      "\n",
      "end of diffusion_advection_FD(), time taken: 7.236016511917114\n",
      "In diffusion_advection_FD_full_matrix()\n",
      "len(Temp[0 , : ]) !=2 :\n",
      "len(Temp[-1 , : ]) !=2 :\n",
      "executed assign_initial_boundary_conditions\n",
      "using calculated velocity profile\n",
      "executed set_vertical_velocity\n"
     ]
    },
    {
     "name": "stderr",
     "output_type": "stream",
     "text": [
      "100%|█████████████████████████████████████████████████████████████████████████████████████████████████████████████████████████| 15983/15983 [00:07<00:00, 2236.08it/s]\n"
     ]
    },
    {
     "name": "stdout",
     "output_type": "stream",
     "text": [
      "\n",
      "end of diffusion_advection_FD(), time taken: 7.183847904205322\n",
      "In diffusion_advection_FD_full_matrix()\n",
      "len(Temp[0 , : ]) !=2 :\n",
      "len(Temp[-1 , : ]) !=2 :\n",
      "executed assign_initial_boundary_conditions\n",
      "using calculated velocity profile\n",
      "executed set_vertical_velocity\n"
     ]
    },
    {
     "name": "stderr",
     "output_type": "stream",
     "text": [
      "100%|█████████████████████████████████████████████████████████████████████████████████████████████████████████████████████████| 15983/15983 [00:07<00:00, 2203.31it/s]\n"
     ]
    },
    {
     "name": "stdout",
     "output_type": "stream",
     "text": [
      "\n",
      "end of diffusion_advection_FD(), time taken: 7.290416717529297\n",
      "In diffusion_advection_FD_full_matrix()\n",
      "len(Temp[0 , : ]) !=2 :\n",
      "len(Temp[-1 , : ]) !=2 :\n",
      "executed assign_initial_boundary_conditions\n",
      "using calculated velocity profile\n",
      "executed set_vertical_velocity\n"
     ]
    },
    {
     "name": "stderr",
     "output_type": "stream",
     "text": [
      "100%|█████████████████████████████████████████████████████████████████████████████████████████████████████████████████████████| 15983/15983 [00:07<00:00, 2226.47it/s]"
     ]
    },
    {
     "name": "stdout",
     "output_type": "stream",
     "text": [
      "\n",
      "end of diffusion_advection_FD(), time taken: 7.214566946029663\n"
     ]
    },
    {
     "name": "stderr",
     "output_type": "stream",
     "text": [
      "\n"
     ]
    }
   ],
   "source": [
    "T_PolarAmplification2_6_ext = np.genfromtxt(fname='data/GRIP_T_PolarAmplification2.beta06.txt')\n",
    "\n",
    "time_points=[]\n",
    "for i in range (1000):#maxtime\n",
    "    time_points.append(i)\n",
    "velocity=[]\n",
    "\n",
    "PA2_6_simulation_10_ext =np.zeros((no_of_profiles,ic.shape[0]))\n",
    "PA2_6_surfaceTem_10_ext =np.zeros((no_of_profiles,time_grid))\n",
    "\n",
    "for k in range(no_of_profiles):#no. of profiles\n",
    "    TPA_data=[]\n",
    "    for i in range (1000):#maxtime\n",
    "        TPA_data.append(T_PolarAmplification2_6_ext[i][k])\n",
    "    top_boundary=interpolate_linear(x_ref=time_points,y_ref=TPA_data,x_req=time_req)\n",
    "    PA2_6_surfaceTem_10_ext[k,:]=top_boundary\n",
    "    bottom_boundary=Tb\n",
    "\n",
    "    case_TPA_data=get_solution_using_FD(max_depth, max_time, dz_approx, dt_approx, borehole3000_depths_1m_ext, borehole3000_densityProf_1m_ext,velocity,ic,top_boundary,Tb,alpha,ws, wb,m)\n",
    "    PA2_6_simulation_10_ext[k,:]=case_TPA_data.T[:,-1]"
   ]
  },
  {
   "cell_type": "raw",
   "id": "1c9023ee",
   "metadata": {},
   "source": [
    "np.save('../Sensor placements/data_borehole_simulations/GRIP_simulations/GRIP_PA2_6_surfaceTem_10_ext1000ws',PA2_6_surfaceTem_10_ext)\n",
    "np.save('../Sensor placements/data_borehole_simulations/GRIP_simulations/GRIP_PA2_6_simulation_10_ext1000ws',PA2_6_simulation_10_ext)        "
   ]
  }
 ],
 "metadata": {
  "kernelspec": {
   "display_name": "Python 3 (ipykernel)",
   "language": "python",
   "name": "python3"
  },
  "language_info": {
   "codemirror_mode": {
    "name": "ipython",
    "version": 3
   },
   "file_extension": ".py",
   "mimetype": "text/x-python",
   "name": "python",
   "nbconvert_exporter": "python",
   "pygments_lexer": "ipython3",
   "version": "3.10.9"
  }
 },
 "nbformat": 4,
 "nbformat_minor": 5
}
