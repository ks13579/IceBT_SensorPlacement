{
 "cells": [
  {
   "cell_type": "code",
   "execution_count": 1,
   "id": "7fa79aa0",
   "metadata": {},
   "outputs": [
    {
     "name": "stderr",
     "output_type": "stream",
     "text": [
      "<frozen importlib._bootstrap>:241: RuntimeWarning: scipy._lib.messagestream.MessageStream size changed, may indicate binary incompatibility. Expected 56 from C header, got 64 from PyObject\n"
     ]
    }
   ],
   "source": [
    "import numpy as np\n",
    "import matplotlib.pyplot as plt \n",
    "\n",
    "import pandas as pd\n",
    "import dill \n",
    "from tqdm import tqdm\n",
    "import time\n",
    "from scipy.stats import qmc\n",
    "import random\n",
    "\n",
    "from src.generate_IC_fixed_grid import get_generate_IC_fixed_grid\n",
    "from src.solution_using_FD import get_solution_using_FD\n",
    "from src.linear_interpolation import interpolate_linear,interpolate_linear_fill_value\n"
   ]
  },
  {
   "cell_type": "markdown",
   "id": "2e2d69b5",
   "metadata": {},
   "source": [
    "Density profile"
   ]
  },
  {
   "cell_type": "code",
   "execution_count": 2,
   "id": "650e7d87",
   "metadata": {},
   "outputs": [],
   "source": [
    "GRIP=pd.read_excel('src/paper_site_densities.xlsx')\n",
    "borehole3000_densityProf=list(GRIP['den_GRIP_317_230'].dropna())\n",
    "borehole3000_depths= list(GRIP['dep_GRIP_317_230'].dropna())"
   ]
  },
  {
   "cell_type": "code",
   "execution_count": 3,
   "id": "bacad79c",
   "metadata": {},
   "outputs": [],
   "source": [
    "Ts=-31.7\n",
    "ws=230\n",
    "Tb=-9\n",
    "wb=0\n",
    "m=10\n",
    "alpha=2\n",
    "beta=0.5\n",
    "velocity=[]\n",
    "max_depth=3029\n",
    "max_time=500000\n",
    "dt_approx=2**-4\n",
    "dz_approx=2**2"
   ]
  },
  {
   "cell_type": "raw",
   "id": "02c21ba7",
   "metadata": {},
   "source": [
    "ic=get_generate_IC_fixed_grid(max_depth, max_time, dz_approx, dt_approx,\n",
    "                              borehole3000_depths, borehole3000_densityProf,\n",
    "                              velocity,Ts,Tb,alpha,beta,ws, wb,m)\n",
    "np.save('src/ic_GRIP.npy',ic)"
   ]
  },
  {
   "cell_type": "markdown",
   "id": "94972a4a",
   "metadata": {},
   "source": [
    "Data generation for results section (GRIP)"
   ]
  },
  {
   "cell_type": "code",
   "execution_count": 4,
   "id": "8ddad06a",
   "metadata": {},
   "outputs": [],
   "source": [
    "no_of_profiles=10"
   ]
  },
  {
   "cell_type": "code",
   "execution_count": 5,
   "id": "e5bee980",
   "metadata": {},
   "outputs": [],
   "source": [
    "max_time=1000-1\n",
    "time_grid=int(max_time/dt_approx)\n",
    "time_req=np.linspace(0,max_time,time_grid)\n",
    "max_depth=3029\n",
    "ic=np.load('src/ic_GRIP.npy',allow_pickle=True)"
   ]
  },
  {
   "cell_type": "code",
   "execution_count": 6,
   "id": "9aa4f35f",
   "metadata": {},
   "outputs": [
    {
     "name": "stdout",
     "output_type": "stream",
     "text": [
      "In diffusion_advection_FD_full_matrix()\n",
      "len(Temp[0 , : ]) !=2 :\n",
      "len(Temp[-1 , : ]) !=2 :\n",
      "executed assign_initial_boundary_conditions\n",
      "using calculated velocity profile\n",
      "executed set_vertical_velocity\n"
     ]
    },
    {
     "name": "stderr",
     "output_type": "stream",
     "text": [
      "100%|██████████████████████████████████| 15983/15983 [00:00<00:00, 30774.89it/s]\n"
     ]
    },
    {
     "name": "stdout",
     "output_type": "stream",
     "text": [
      "\n",
      "end of diffusion_advection_FD(), time taken: 0.5228962898254395\n",
      "In diffusion_advection_FD_full_matrix()\n",
      "len(Temp[0 , : ]) !=2 :\n",
      "len(Temp[-1 , : ]) !=2 :\n",
      "executed assign_initial_boundary_conditions\n",
      "using calculated velocity profile\n",
      "executed set_vertical_velocity\n"
     ]
    },
    {
     "name": "stderr",
     "output_type": "stream",
     "text": [
      "100%|██████████████████████████████████| 15983/15983 [00:00<00:00, 30074.69it/s]\n"
     ]
    },
    {
     "name": "stdout",
     "output_type": "stream",
     "text": [
      "\n",
      "end of diffusion_advection_FD(), time taken: 0.534285306930542\n",
      "In diffusion_advection_FD_full_matrix()\n",
      "len(Temp[0 , : ]) !=2 :\n",
      "len(Temp[-1 , : ]) !=2 :\n",
      "executed assign_initial_boundary_conditions\n",
      "using calculated velocity profile\n",
      "executed set_vertical_velocity\n"
     ]
    },
    {
     "name": "stderr",
     "output_type": "stream",
     "text": [
      "100%|██████████████████████████████████| 15983/15983 [00:00<00:00, 30097.29it/s]\n"
     ]
    },
    {
     "name": "stdout",
     "output_type": "stream",
     "text": [
      "\n",
      "end of diffusion_advection_FD(), time taken: 0.5337936878204346\n",
      "In diffusion_advection_FD_full_matrix()\n",
      "len(Temp[0 , : ]) !=2 :\n",
      "len(Temp[-1 , : ]) !=2 :\n",
      "executed assign_initial_boundary_conditions\n",
      "using calculated velocity profile\n",
      "executed set_vertical_velocity\n"
     ]
    },
    {
     "name": "stderr",
     "output_type": "stream",
     "text": [
      "100%|██████████████████████████████████| 15983/15983 [00:00<00:00, 30390.96it/s]\n"
     ]
    },
    {
     "name": "stdout",
     "output_type": "stream",
     "text": [
      "\n",
      "end of diffusion_advection_FD(), time taken: 0.5286219120025635\n",
      "In diffusion_advection_FD_full_matrix()\n",
      "len(Temp[0 , : ]) !=2 :\n",
      "len(Temp[-1 , : ]) !=2 :\n",
      "executed assign_initial_boundary_conditions\n",
      "using calculated velocity profile\n",
      "executed set_vertical_velocity\n"
     ]
    },
    {
     "name": "stderr",
     "output_type": "stream",
     "text": [
      "100%|██████████████████████████████████| 15983/15983 [00:00<00:00, 29766.68it/s]\n"
     ]
    },
    {
     "name": "stdout",
     "output_type": "stream",
     "text": [
      "\n",
      "end of diffusion_advection_FD(), time taken: 0.5396716594696045\n",
      "In diffusion_advection_FD_full_matrix()\n",
      "len(Temp[0 , : ]) !=2 :\n",
      "len(Temp[-1 , : ]) !=2 :\n",
      "executed assign_initial_boundary_conditions\n",
      "using calculated velocity profile\n",
      "executed set_vertical_velocity\n"
     ]
    },
    {
     "name": "stderr",
     "output_type": "stream",
     "text": [
      "100%|██████████████████████████████████| 15983/15983 [00:00<00:00, 30172.87it/s]\n"
     ]
    },
    {
     "name": "stdout",
     "output_type": "stream",
     "text": [
      "\n",
      "end of diffusion_advection_FD(), time taken: 0.5325074195861816\n",
      "In diffusion_advection_FD_full_matrix()\n",
      "len(Temp[0 , : ]) !=2 :\n",
      "len(Temp[-1 , : ]) !=2 :\n",
      "executed assign_initial_boundary_conditions\n",
      "using calculated velocity profile\n",
      "executed set_vertical_velocity\n"
     ]
    },
    {
     "name": "stderr",
     "output_type": "stream",
     "text": [
      "100%|██████████████████████████████████| 15983/15983 [00:00<00:00, 29954.52it/s]\n"
     ]
    },
    {
     "name": "stdout",
     "output_type": "stream",
     "text": [
      "\n",
      "end of diffusion_advection_FD(), time taken: 0.5360598564147949\n",
      "In diffusion_advection_FD_full_matrix()\n",
      "len(Temp[0 , : ]) !=2 :\n",
      "len(Temp[-1 , : ]) !=2 :\n",
      "executed assign_initial_boundary_conditions\n",
      "using calculated velocity profile\n",
      "executed set_vertical_velocity\n"
     ]
    },
    {
     "name": "stderr",
     "output_type": "stream",
     "text": [
      "100%|██████████████████████████████████| 15983/15983 [00:00<00:00, 30323.10it/s]\n"
     ]
    },
    {
     "name": "stdout",
     "output_type": "stream",
     "text": [
      "\n",
      "end of diffusion_advection_FD(), time taken: 0.529437780380249\n",
      "In diffusion_advection_FD_full_matrix()\n",
      "len(Temp[0 , : ]) !=2 :\n",
      "len(Temp[-1 , : ]) !=2 :\n",
      "executed assign_initial_boundary_conditions\n",
      "using calculated velocity profile\n",
      "executed set_vertical_velocity\n"
     ]
    },
    {
     "name": "stderr",
     "output_type": "stream",
     "text": [
      "100%|██████████████████████████████████| 15983/15983 [00:00<00:00, 30311.07it/s]\n"
     ]
    },
    {
     "name": "stdout",
     "output_type": "stream",
     "text": [
      "\n",
      "end of diffusion_advection_FD(), time taken: 0.5297250747680664\n",
      "In diffusion_advection_FD_full_matrix()\n",
      "len(Temp[0 , : ]) !=2 :\n",
      "len(Temp[-1 , : ]) !=2 :\n",
      "executed assign_initial_boundary_conditions\n",
      "using calculated velocity profile\n",
      "executed set_vertical_velocity\n"
     ]
    },
    {
     "name": "stderr",
     "output_type": "stream",
     "text": [
      "100%|██████████████████████████████████| 15983/15983 [00:00<00:00, 30430.18it/s]"
     ]
    },
    {
     "name": "stdout",
     "output_type": "stream",
     "text": [
      "\n",
      "end of diffusion_advection_FD(), time taken: 0.5276057720184326\n"
     ]
    },
    {
     "name": "stderr",
     "output_type": "stream",
     "text": [
      "\n"
     ]
    }
   ],
   "source": [
    "T_PolarAmplification10 = np.genfromtxt(fname='data/GRIP_T_PolarAmplification1.beta0.txt')\n",
    "\n",
    "time_points=[]\n",
    "for i in range (1000):#maxtime\n",
    "    time_points.append(i)\n",
    "velocity=[]\n",
    "\n",
    "PA10_simulation_10=np.zeros((no_of_profiles,ic.shape[0]))\n",
    "PA10_surfaceTem_10=np.zeros((no_of_profiles,time_grid))\n",
    "\n",
    "for k in range(no_of_profiles):#no. of profiles\n",
    "    TPA_data=[]\n",
    "    for i in range (1000):#maxtime\n",
    "        TPA_data.append(T_PolarAmplification10[i][k])\n",
    "    top_boundary=interpolate_linear(x_ref=time_points,y_ref=TPA_data,x_req=time_req)\n",
    "    PA10_surfaceTem_10[k,:]=top_boundary\n",
    "    bottom_boundary=Tb\n",
    "\n",
    "    case_TPA_data=get_solution_using_FD(max_depth, max_time, dz_approx, dt_approx, \n",
    "                                        borehole3000_depths, borehole3000_densityProf,\n",
    "                                        velocity,ic,top_boundary,Tb,alpha,ws, wb,m)\n",
    "    PA10_simulation_10[k,:]=case_TPA_data.T[:,-1]\n",
    "    "
   ]
  },
  {
   "cell_type": "raw",
   "id": "39596a05",
   "metadata": {},
   "source": [
    "np.save('../Sensor placements/data_borehole_simulations/GRIP_simulations/GRIP_PA10_surfaceTem_10',PA10_surfaceTem_10)\n",
    "np.save('../Sensor placements/data_borehole_simulations/GRIP_simulations/GRIP_PA10_simulation_10',PA10_simulation_10)"
   ]
  },
  {
   "cell_type": "code",
   "execution_count": 8,
   "id": "bee8459d",
   "metadata": {},
   "outputs": [
    {
     "name": "stdout",
     "output_type": "stream",
     "text": [
      "In diffusion_advection_FD_full_matrix()\n",
      "len(Temp[0 , : ]) !=2 :\n",
      "len(Temp[-1 , : ]) !=2 :\n",
      "executed assign_initial_boundary_conditions\n",
      "using calculated velocity profile\n",
      "executed set_vertical_velocity\n"
     ]
    },
    {
     "name": "stderr",
     "output_type": "stream",
     "text": [
      "100%|██████████████████████████████████| 15983/15983 [00:00<00:00, 30521.54it/s]\n"
     ]
    },
    {
     "name": "stdout",
     "output_type": "stream",
     "text": [
      "\n",
      "end of diffusion_advection_FD(), time taken: 0.5266494750976562\n",
      "In diffusion_advection_FD_full_matrix()\n",
      "len(Temp[0 , : ]) !=2 :\n",
      "len(Temp[-1 , : ]) !=2 :\n",
      "executed assign_initial_boundary_conditions\n",
      "using calculated velocity profile\n",
      "executed set_vertical_velocity\n"
     ]
    },
    {
     "name": "stderr",
     "output_type": "stream",
     "text": [
      "100%|██████████████████████████████████| 15983/15983 [00:00<00:00, 30354.78it/s]\n"
     ]
    },
    {
     "name": "stdout",
     "output_type": "stream",
     "text": [
      "\n",
      "end of diffusion_advection_FD(), time taken: 0.5289859771728516\n",
      "In diffusion_advection_FD_full_matrix()\n",
      "len(Temp[0 , : ]) !=2 :\n",
      "len(Temp[-1 , : ]) !=2 :\n",
      "executed assign_initial_boundary_conditions\n",
      "using calculated velocity profile\n",
      "executed set_vertical_velocity\n"
     ]
    },
    {
     "name": "stderr",
     "output_type": "stream",
     "text": [
      "100%|██████████████████████████████████| 15983/15983 [00:00<00:00, 30214.10it/s]\n"
     ]
    },
    {
     "name": "stdout",
     "output_type": "stream",
     "text": [
      "\n",
      "end of diffusion_advection_FD(), time taken: 0.531381368637085\n",
      "In diffusion_advection_FD_full_matrix()\n",
      "len(Temp[0 , : ]) !=2 :\n",
      "len(Temp[-1 , : ]) !=2 :\n",
      "executed assign_initial_boundary_conditions\n",
      "using calculated velocity profile\n",
      "executed set_vertical_velocity\n"
     ]
    },
    {
     "name": "stderr",
     "output_type": "stream",
     "text": [
      "100%|██████████████████████████████████| 15983/15983 [00:00<00:00, 30556.15it/s]\n"
     ]
    },
    {
     "name": "stdout",
     "output_type": "stream",
     "text": [
      "\n",
      "end of diffusion_advection_FD(), time taken: 0.5255398750305176\n",
      "In diffusion_advection_FD_full_matrix()\n",
      "len(Temp[0 , : ]) !=2 :\n",
      "len(Temp[-1 , : ]) !=2 :\n",
      "executed assign_initial_boundary_conditions\n",
      "using calculated velocity profile\n",
      "executed set_vertical_velocity\n"
     ]
    },
    {
     "name": "stderr",
     "output_type": "stream",
     "text": [
      "100%|██████████████████████████████████| 15983/15983 [00:00<00:00, 30430.79it/s]\n"
     ]
    },
    {
     "name": "stdout",
     "output_type": "stream",
     "text": [
      "\n",
      "end of diffusion_advection_FD(), time taken: 0.5278036594390869\n",
      "In diffusion_advection_FD_full_matrix()\n",
      "len(Temp[0 , : ]) !=2 :\n",
      "len(Temp[-1 , : ]) !=2 :\n",
      "executed assign_initial_boundary_conditions\n",
      "using calculated velocity profile\n",
      "executed set_vertical_velocity\n"
     ]
    },
    {
     "name": "stderr",
     "output_type": "stream",
     "text": [
      "100%|██████████████████████████████████| 15983/15983 [00:00<00:00, 29825.48it/s]\n"
     ]
    },
    {
     "name": "stdout",
     "output_type": "stream",
     "text": [
      "\n",
      "end of diffusion_advection_FD(), time taken: 0.5386009216308594\n",
      "In diffusion_advection_FD_full_matrix()\n",
      "len(Temp[0 , : ]) !=2 :\n",
      "len(Temp[-1 , : ]) !=2 :\n",
      "executed assign_initial_boundary_conditions\n",
      "using calculated velocity profile\n",
      "executed set_vertical_velocity\n"
     ]
    },
    {
     "name": "stderr",
     "output_type": "stream",
     "text": [
      "100%|██████████████████████████████████| 15983/15983 [00:00<00:00, 29811.67it/s]\n"
     ]
    },
    {
     "name": "stdout",
     "output_type": "stream",
     "text": [
      "\n",
      "end of diffusion_advection_FD(), time taken: 0.538766622543335\n",
      "In diffusion_advection_FD_full_matrix()\n",
      "len(Temp[0 , : ]) !=2 :\n",
      "len(Temp[-1 , : ]) !=2 :\n",
      "executed assign_initial_boundary_conditions\n",
      "using calculated velocity profile\n",
      "executed set_vertical_velocity\n"
     ]
    },
    {
     "name": "stderr",
     "output_type": "stream",
     "text": [
      "100%|██████████████████████████████████| 15983/15983 [00:00<00:00, 29938.98it/s]\n"
     ]
    },
    {
     "name": "stdout",
     "output_type": "stream",
     "text": [
      "\n",
      "end of diffusion_advection_FD(), time taken: 0.536689043045044\n",
      "In diffusion_advection_FD_full_matrix()\n",
      "len(Temp[0 , : ]) !=2 :\n",
      "len(Temp[-1 , : ]) !=2 :\n",
      "executed assign_initial_boundary_conditions\n",
      "using calculated velocity profile\n",
      "executed set_vertical_velocity\n"
     ]
    },
    {
     "name": "stderr",
     "output_type": "stream",
     "text": [
      "100%|██████████████████████████████████| 15983/15983 [00:00<00:00, 29852.11it/s]\n"
     ]
    },
    {
     "name": "stdout",
     "output_type": "stream",
     "text": [
      "\n",
      "end of diffusion_advection_FD(), time taken: 0.5380947589874268\n",
      "In diffusion_advection_FD_full_matrix()\n",
      "len(Temp[0 , : ]) !=2 :\n",
      "len(Temp[-1 , : ]) !=2 :\n",
      "executed assign_initial_boundary_conditions\n",
      "using calculated velocity profile\n",
      "executed set_vertical_velocity\n"
     ]
    },
    {
     "name": "stderr",
     "output_type": "stream",
     "text": [
      "100%|██████████████████████████████████| 15983/15983 [00:00<00:00, 30047.42it/s]"
     ]
    },
    {
     "name": "stdout",
     "output_type": "stream",
     "text": [
      "\n",
      "end of diffusion_advection_FD(), time taken: 0.5348312854766846\n"
     ]
    },
    {
     "name": "stderr",
     "output_type": "stream",
     "text": [
      "\n"
     ]
    }
   ],
   "source": [
    "T_PolarAmplification11 = np.genfromtxt(fname='data/GRIP_T_PolarAmplification1.beta1.txt')\n",
    "\n",
    "time_points=[]\n",
    "for i in range (1000):#maxtime\n",
    "    time_points.append(i)\n",
    "velocity=[]\n",
    "\n",
    "PA11_simulation_10=np.zeros((no_of_profiles,ic.shape[0]))\n",
    "PA11_surfaceTem_10=np.zeros((no_of_profiles,time_grid))\n",
    "\n",
    "for k in range(no_of_profiles):#no. of profiles\n",
    "    TPA_data=[]\n",
    "    for i in range (1000):#maxtime\n",
    "        TPA_data.append(T_PolarAmplification11[i][k])\n",
    "    top_boundary=interpolate_linear(x_ref=time_points,y_ref=TPA_data,x_req=time_req)\n",
    "    PA11_surfaceTem_10[k,:]=top_boundary\n",
    "    bottom_boundary=Tb\n",
    "\n",
    "    case_TPA_data=get_solution_using_FD(max_depth, max_time, dz_approx, dt_approx, \n",
    "                                        borehole3000_depths, borehole3000_densityProf,\n",
    "                                        velocity,ic,top_boundary,Tb,alpha,ws, wb,m)\n",
    "    PA11_simulation_10[k,:]=case_TPA_data.T[:,-1]"
   ]
  },
  {
   "cell_type": "raw",
   "id": "4ed65740",
   "metadata": {},
   "source": [
    "np.save('../Sensor placements/data_borehole_simulations/GRIP_simulations/GRIP_PA11_surfaceTem_10',PA11_surfaceTem_10)\n",
    "np.save('../Sensor placements/data_borehole_simulations/GRIP_simulations/GRIP_PA11_simulation_10',PA11_simulation_10)"
   ]
  },
  {
   "cell_type": "code",
   "execution_count": 11,
   "id": "1b9704ad",
   "metadata": {
    "scrolled": true
   },
   "outputs": [
    {
     "name": "stdout",
     "output_type": "stream",
     "text": [
      "In diffusion_advection_FD_full_matrix()\n",
      "len(Temp[0 , : ]) !=2 :\n",
      "len(Temp[-1 , : ]) !=2 :\n",
      "executed assign_initial_boundary_conditions\n",
      "using calculated velocity profile\n",
      "executed set_vertical_velocity\n"
     ]
    },
    {
     "name": "stderr",
     "output_type": "stream",
     "text": [
      "100%|██████████████████████████████████| 15983/15983 [00:00<00:00, 30659.30it/s]\n"
     ]
    },
    {
     "name": "stdout",
     "output_type": "stream",
     "text": [
      "\n",
      "end of diffusion_advection_FD(), time taken: 0.5246045589447021\n",
      "In diffusion_advection_FD_full_matrix()\n",
      "len(Temp[0 , : ]) !=2 :\n",
      "len(Temp[-1 , : ]) !=2 :\n",
      "executed assign_initial_boundary_conditions\n",
      "using calculated velocity profile\n",
      "executed set_vertical_velocity\n"
     ]
    },
    {
     "name": "stderr",
     "output_type": "stream",
     "text": [
      "100%|██████████████████████████████████| 15983/15983 [00:00<00:00, 30253.57it/s]\n"
     ]
    },
    {
     "name": "stdout",
     "output_type": "stream",
     "text": [
      "\n",
      "end of diffusion_advection_FD(), time taken: 0.5310659408569336\n",
      "In diffusion_advection_FD_full_matrix()\n",
      "len(Temp[0 , : ]) !=2 :\n",
      "len(Temp[-1 , : ]) !=2 :\n",
      "executed assign_initial_boundary_conditions\n",
      "using calculated velocity profile\n",
      "executed set_vertical_velocity\n"
     ]
    },
    {
     "name": "stderr",
     "output_type": "stream",
     "text": [
      "100%|██████████████████████████████████| 15983/15983 [00:00<00:00, 29970.98it/s]\n"
     ]
    },
    {
     "name": "stdout",
     "output_type": "stream",
     "text": [
      "\n",
      "end of diffusion_advection_FD(), time taken: 0.5360889434814453\n",
      "In diffusion_advection_FD_full_matrix()\n",
      "len(Temp[0 , : ]) !=2 :\n",
      "len(Temp[-1 , : ]) !=2 :\n",
      "executed assign_initial_boundary_conditions\n",
      "using calculated velocity profile\n",
      "executed set_vertical_velocity\n"
     ]
    },
    {
     "name": "stderr",
     "output_type": "stream",
     "text": [
      "100%|██████████████████████████████████| 15983/15983 [00:00<00:00, 30084.50it/s]\n"
     ]
    },
    {
     "name": "stdout",
     "output_type": "stream",
     "text": [
      "\n",
      "end of diffusion_advection_FD(), time taken: 0.5342743396759033\n",
      "In diffusion_advection_FD_full_matrix()\n",
      "len(Temp[0 , : ]) !=2 :\n",
      "len(Temp[-1 , : ]) !=2 :\n",
      "executed assign_initial_boundary_conditions\n",
      "using calculated velocity profile\n",
      "executed set_vertical_velocity\n"
     ]
    },
    {
     "name": "stderr",
     "output_type": "stream",
     "text": [
      "100%|██████████████████████████████████| 15983/15983 [00:00<00:00, 30112.65it/s]\n"
     ]
    },
    {
     "name": "stdout",
     "output_type": "stream",
     "text": [
      "\n",
      "end of diffusion_advection_FD(), time taken: 0.53348708152771\n",
      "In diffusion_advection_FD_full_matrix()\n",
      "len(Temp[0 , : ]) !=2 :\n",
      "len(Temp[-1 , : ]) !=2 :\n",
      "executed assign_initial_boundary_conditions\n",
      "using calculated velocity profile\n",
      "executed set_vertical_velocity\n"
     ]
    },
    {
     "name": "stderr",
     "output_type": "stream",
     "text": [
      "100%|██████████████████████████████████| 15983/15983 [00:00<00:00, 29910.19it/s]\n"
     ]
    },
    {
     "name": "stdout",
     "output_type": "stream",
     "text": [
      "\n",
      "end of diffusion_advection_FD(), time taken: 0.5371086597442627\n",
      "In diffusion_advection_FD_full_matrix()\n",
      "len(Temp[0 , : ]) !=2 :\n",
      "len(Temp[-1 , : ]) !=2 :\n",
      "executed assign_initial_boundary_conditions\n",
      "using calculated velocity profile\n",
      "executed set_vertical_velocity\n"
     ]
    },
    {
     "name": "stderr",
     "output_type": "stream",
     "text": [
      "100%|██████████████████████████████████| 15983/15983 [00:00<00:00, 29864.34it/s]\n"
     ]
    },
    {
     "name": "stdout",
     "output_type": "stream",
     "text": [
      "\n",
      "end of diffusion_advection_FD(), time taken: 0.537980318069458\n",
      "In diffusion_advection_FD_full_matrix()\n",
      "len(Temp[0 , : ]) !=2 :\n",
      "len(Temp[-1 , : ]) !=2 :\n",
      "executed assign_initial_boundary_conditions\n",
      "using calculated velocity profile\n",
      "executed set_vertical_velocity\n"
     ]
    },
    {
     "name": "stderr",
     "output_type": "stream",
     "text": [
      "100%|██████████████████████████████████| 15983/15983 [00:00<00:00, 29871.53it/s]\n"
     ]
    },
    {
     "name": "stdout",
     "output_type": "stream",
     "text": [
      "\n",
      "end of diffusion_advection_FD(), time taken: 0.538032054901123\n",
      "In diffusion_advection_FD_full_matrix()\n",
      "len(Temp[0 , : ]) !=2 :\n",
      "len(Temp[-1 , : ]) !=2 :\n",
      "executed assign_initial_boundary_conditions\n",
      "using calculated velocity profile\n",
      "executed set_vertical_velocity\n"
     ]
    },
    {
     "name": "stderr",
     "output_type": "stream",
     "text": [
      "100%|██████████████████████████████████| 15983/15983 [00:00<00:00, 30033.05it/s]\n"
     ]
    },
    {
     "name": "stdout",
     "output_type": "stream",
     "text": [
      "\n",
      "end of diffusion_advection_FD(), time taken: 0.5350067615509033\n",
      "In diffusion_advection_FD_full_matrix()\n",
      "len(Temp[0 , : ]) !=2 :\n",
      "len(Temp[-1 , : ]) !=2 :\n",
      "executed assign_initial_boundary_conditions\n",
      "using calculated velocity profile\n",
      "executed set_vertical_velocity\n"
     ]
    },
    {
     "name": "stderr",
     "output_type": "stream",
     "text": [
      "100%|██████████████████████████████████| 15983/15983 [00:00<00:00, 30013.06it/s]"
     ]
    },
    {
     "name": "stdout",
     "output_type": "stream",
     "text": [
      "\n",
      "end of diffusion_advection_FD(), time taken: 0.5354001522064209\n"
     ]
    },
    {
     "name": "stderr",
     "output_type": "stream",
     "text": [
      "\n"
     ]
    }
   ],
   "source": [
    "T_PolarAmplification20 = np.genfromtxt(fname='data/GRIP_T_PolarAmplification2.beta0.txt')\n",
    "\n",
    "time_points=[]\n",
    "for i in range (1000):#maxtime\n",
    "    time_points.append(i)\n",
    "velocity=[]\n",
    "\n",
    "PA20_simulation_10=np.zeros((no_of_profiles,ic.shape[0]))\n",
    "PA20_surfaceTem_10=np.zeros((no_of_profiles,time_grid))\n",
    "\n",
    "for k in range(no_of_profiles):#no. of profiles\n",
    "    TPA_data=[]\n",
    "    for i in range (1000):#maxtime\n",
    "        TPA_data.append(T_PolarAmplification20[i][k])\n",
    "    top_boundary=interpolate_linear(x_ref=time_points,y_ref=TPA_data,x_req=time_req)\n",
    "    PA20_surfaceTem_10[k,:]=top_boundary\n",
    "    bottom_boundary=Tb\n",
    "\n",
    "    case_TPA_data=get_solution_using_FD(max_depth, max_time, dz_approx, dt_approx, \n",
    "                                        borehole3000_depths, borehole3000_densityProf,\n",
    "                                        velocity,ic,top_boundary,Tb,alpha,ws, wb,m)\n",
    "    PA20_simulation_10[k,:]=case_TPA_data.T[:,-1]\n",
    "    "
   ]
  },
  {
   "cell_type": "raw",
   "id": "c5c30a56",
   "metadata": {},
   "source": [
    "np.save('../Sensor placements/data_borehole_simulations/GRIP_simulations/GRIP_PA20_surfaceTem_10',PA20_surfaceTem_10)\n",
    "np.save('../Sensor placements/data_borehole_simulations/GRIP_simulations/GRIP_PA20_simulation_10',PA20_simulation_10)"
   ]
  },
  {
   "cell_type": "code",
   "execution_count": 13,
   "id": "1bc1b6e7",
   "metadata": {},
   "outputs": [
    {
     "name": "stdout",
     "output_type": "stream",
     "text": [
      "In diffusion_advection_FD_full_matrix()\n",
      "len(Temp[0 , : ]) !=2 :\n",
      "len(Temp[-1 , : ]) !=2 :\n",
      "executed assign_initial_boundary_conditions\n",
      "using calculated velocity profile\n",
      "executed set_vertical_velocity\n"
     ]
    },
    {
     "name": "stderr",
     "output_type": "stream",
     "text": [
      "100%|██████████████████████████████████| 15983/15983 [00:00<00:00, 30907.56it/s]\n"
     ]
    },
    {
     "name": "stdout",
     "output_type": "stream",
     "text": [
      "\n",
      "end of diffusion_advection_FD(), time taken: 0.5203731060028076\n",
      "In diffusion_advection_FD_full_matrix()\n",
      "len(Temp[0 , : ]) !=2 :\n",
      "len(Temp[-1 , : ]) !=2 :\n",
      "executed assign_initial_boundary_conditions\n",
      "using calculated velocity profile\n",
      "executed set_vertical_velocity\n"
     ]
    },
    {
     "name": "stderr",
     "output_type": "stream",
     "text": [
      "100%|██████████████████████████████████| 15983/15983 [00:00<00:00, 30536.83it/s]\n"
     ]
    },
    {
     "name": "stdout",
     "output_type": "stream",
     "text": [
      "\n",
      "end of diffusion_advection_FD(), time taken: 0.5264885425567627\n",
      "In diffusion_advection_FD_full_matrix()\n",
      "len(Temp[0 , : ]) !=2 :\n",
      "len(Temp[-1 , : ]) !=2 :\n",
      "executed assign_initial_boundary_conditions\n",
      "using calculated velocity profile\n",
      "executed set_vertical_velocity\n"
     ]
    },
    {
     "name": "stderr",
     "output_type": "stream",
     "text": [
      "100%|██████████████████████████████████| 15983/15983 [00:00<00:00, 30107.36it/s]\n"
     ]
    },
    {
     "name": "stdout",
     "output_type": "stream",
     "text": [
      "\n",
      "end of diffusion_advection_FD(), time taken: 0.5339999198913574\n",
      "In diffusion_advection_FD_full_matrix()\n",
      "len(Temp[0 , : ]) !=2 :\n",
      "len(Temp[-1 , : ]) !=2 :\n",
      "executed assign_initial_boundary_conditions\n",
      "using calculated velocity profile\n",
      "executed set_vertical_velocity\n"
     ]
    },
    {
     "name": "stderr",
     "output_type": "stream",
     "text": [
      "100%|██████████████████████████████████| 15983/15983 [00:00<00:00, 29998.72it/s]\n"
     ]
    },
    {
     "name": "stdout",
     "output_type": "stream",
     "text": [
      "\n",
      "end of diffusion_advection_FD(), time taken: 0.5357482433319092\n",
      "In diffusion_advection_FD_full_matrix()\n",
      "len(Temp[0 , : ]) !=2 :\n",
      "len(Temp[-1 , : ]) !=2 :\n",
      "executed assign_initial_boundary_conditions\n",
      "using calculated velocity profile\n",
      "executed set_vertical_velocity\n"
     ]
    },
    {
     "name": "stderr",
     "output_type": "stream",
     "text": [
      "100%|██████████████████████████████████| 15983/15983 [00:00<00:00, 30209.29it/s]\n"
     ]
    },
    {
     "name": "stdout",
     "output_type": "stream",
     "text": [
      "\n",
      "end of diffusion_advection_FD(), time taken: 0.5319459438323975\n",
      "In diffusion_advection_FD_full_matrix()\n",
      "len(Temp[0 , : ]) !=2 :\n",
      "len(Temp[-1 , : ]) !=2 :\n",
      "executed assign_initial_boundary_conditions\n",
      "using calculated velocity profile\n",
      "executed set_vertical_velocity\n"
     ]
    },
    {
     "name": "stderr",
     "output_type": "stream",
     "text": [
      "100%|██████████████████████████████████| 15983/15983 [00:00<00:00, 29934.69it/s]\n"
     ]
    },
    {
     "name": "stdout",
     "output_type": "stream",
     "text": [
      "\n",
      "end of diffusion_advection_FD(), time taken: 0.5370175838470459\n",
      "In diffusion_advection_FD_full_matrix()\n",
      "len(Temp[0 , : ]) !=2 :\n",
      "len(Temp[-1 , : ]) !=2 :\n",
      "executed assign_initial_boundary_conditions\n",
      "using calculated velocity profile\n",
      "executed set_vertical_velocity\n"
     ]
    },
    {
     "name": "stderr",
     "output_type": "stream",
     "text": [
      "100%|██████████████████████████████████| 15983/15983 [00:00<00:00, 29625.13it/s]\n"
     ]
    },
    {
     "name": "stdout",
     "output_type": "stream",
     "text": [
      "\n",
      "end of diffusion_advection_FD(), time taken: 0.5424931049346924\n",
      "In diffusion_advection_FD_full_matrix()\n",
      "len(Temp[0 , : ]) !=2 :\n",
      "len(Temp[-1 , : ]) !=2 :\n",
      "executed assign_initial_boundary_conditions\n",
      "using calculated velocity profile\n",
      "executed set_vertical_velocity\n"
     ]
    },
    {
     "name": "stderr",
     "output_type": "stream",
     "text": [
      "100%|██████████████████████████████████| 15983/15983 [00:00<00:00, 29699.66it/s]\n"
     ]
    },
    {
     "name": "stdout",
     "output_type": "stream",
     "text": [
      "\n",
      "end of diffusion_advection_FD(), time taken: 0.5409126281738281\n",
      "In diffusion_advection_FD_full_matrix()\n",
      "len(Temp[0 , : ]) !=2 :\n",
      "len(Temp[-1 , : ]) !=2 :\n",
      "executed assign_initial_boundary_conditions\n",
      "using calculated velocity profile\n",
      "executed set_vertical_velocity\n"
     ]
    },
    {
     "name": "stderr",
     "output_type": "stream",
     "text": [
      "100%|██████████████████████████████████| 15983/15983 [00:00<00:00, 29764.18it/s]\n"
     ]
    },
    {
     "name": "stdout",
     "output_type": "stream",
     "text": [
      "\n",
      "end of diffusion_advection_FD(), time taken: 0.5396645069122314\n",
      "In diffusion_advection_FD_full_matrix()\n",
      "len(Temp[0 , : ]) !=2 :\n",
      "len(Temp[-1 , : ]) !=2 :\n",
      "executed assign_initial_boundary_conditions\n",
      "using calculated velocity profile\n",
      "executed set_vertical_velocity\n"
     ]
    },
    {
     "name": "stderr",
     "output_type": "stream",
     "text": [
      "100%|██████████████████████████████████| 15983/15983 [00:00<00:00, 30251.57it/s]"
     ]
    },
    {
     "name": "stdout",
     "output_type": "stream",
     "text": [
      "\n",
      "end of diffusion_advection_FD(), time taken: 0.5309679508209229\n"
     ]
    },
    {
     "name": "stderr",
     "output_type": "stream",
     "text": [
      "\n"
     ]
    }
   ],
   "source": [
    "T_PolarAmplification21 = np.genfromtxt(fname='data/GRIP_T_PolarAmplification2.beta1.txt')\n",
    "\n",
    "time_points=[]\n",
    "for i in range (1000):#maxtime\n",
    "    time_points.append(i)\n",
    "velocity=[]\n",
    "\n",
    "PA21_simulation_10=np.zeros((no_of_profiles,ic.shape[0]))\n",
    "PA21_surfaceTem_10=np.zeros((no_of_profiles,time_grid))\n",
    "\n",
    "for k in range(no_of_profiles):#no. of profiles\n",
    "    TPA_data=[]\n",
    "    for i in range (1000):#maxtime\n",
    "        TPA_data.append(T_PolarAmplification21[i][k])\n",
    "    top_boundary=interpolate_linear(x_ref=time_points,y_ref=TPA_data,x_req=time_req)\n",
    "    PA21_surfaceTem_10[k,:]=top_boundary\n",
    "    bottom_boundary=Tb\n",
    "\n",
    "    case_TPA_data=get_solution_using_FD(max_depth, max_time, dz_approx, dt_approx, \n",
    "                                        borehole3000_depths, borehole3000_densityProf,\n",
    "                                        velocity,ic,top_boundary,Tb,alpha,ws, wb,m)\n",
    "    PA21_simulation_10[k,:]=case_TPA_data.T[:,-1]"
   ]
  },
  {
   "cell_type": "raw",
   "id": "3c2dba3c",
   "metadata": {},
   "source": [
    "np.save('../Sensor placements/data_borehole_simulations/GRIP_simulations/GRIP_PA21_surfaceTem_10',PA21_surfaceTem_10)\n",
    "np.save('../Sensor placements/data_borehole_simulations/GRIP_simulations/GRIP_PA21_simulation_10',PA21_simulation_10)"
   ]
  },
  {
   "cell_type": "code",
   "execution_count": 15,
   "id": "b40df8c0",
   "metadata": {},
   "outputs": [
    {
     "name": "stdout",
     "output_type": "stream",
     "text": [
      "In diffusion_advection_FD_full_matrix()\n",
      "len(Temp[0 , : ]) !=2 :\n",
      "len(Temp[-1 , : ]) !=2 :\n",
      "executed assign_initial_boundary_conditions\n",
      "using calculated velocity profile\n",
      "executed set_vertical_velocity\n"
     ]
    },
    {
     "name": "stderr",
     "output_type": "stream",
     "text": [
      "100%|██████████████████████████████████| 15983/15983 [00:00<00:00, 30616.84it/s]\n"
     ]
    },
    {
     "name": "stdout",
     "output_type": "stream",
     "text": [
      "\n",
      "end of diffusion_advection_FD(), time taken: 0.5252840518951416\n",
      "In diffusion_advection_FD_full_matrix()\n",
      "len(Temp[0 , : ]) !=2 :\n",
      "len(Temp[-1 , : ]) !=2 :\n",
      "executed assign_initial_boundary_conditions\n",
      "using calculated velocity profile\n",
      "executed set_vertical_velocity\n"
     ]
    },
    {
     "name": "stderr",
     "output_type": "stream",
     "text": [
      "100%|██████████████████████████████████| 15983/15983 [00:00<00:00, 30126.60it/s]\n"
     ]
    },
    {
     "name": "stdout",
     "output_type": "stream",
     "text": [
      "\n",
      "end of diffusion_advection_FD(), time taken: 0.5332868099212646\n",
      "In diffusion_advection_FD_full_matrix()\n",
      "len(Temp[0 , : ]) !=2 :\n",
      "len(Temp[-1 , : ]) !=2 :\n",
      "executed assign_initial_boundary_conditions\n",
      "using calculated velocity profile\n",
      "executed set_vertical_velocity\n"
     ]
    },
    {
     "name": "stderr",
     "output_type": "stream",
     "text": [
      "100%|██████████████████████████████████| 15983/15983 [00:00<00:00, 29783.66it/s]\n"
     ]
    },
    {
     "name": "stdout",
     "output_type": "stream",
     "text": [
      "\n",
      "end of diffusion_advection_FD(), time taken: 0.5394837856292725\n",
      "In diffusion_advection_FD_full_matrix()\n",
      "len(Temp[0 , : ]) !=2 :\n",
      "len(Temp[-1 , : ]) !=2 :\n",
      "executed assign_initial_boundary_conditions\n",
      "using calculated velocity profile\n",
      "executed set_vertical_velocity\n"
     ]
    },
    {
     "name": "stderr",
     "output_type": "stream",
     "text": [
      "100%|██████████████████████████████████| 15983/15983 [00:00<00:00, 30022.59it/s]\n"
     ]
    },
    {
     "name": "stdout",
     "output_type": "stream",
     "text": [
      "\n",
      "end of diffusion_advection_FD(), time taken: 0.5352132320404053\n",
      "In diffusion_advection_FD_full_matrix()\n",
      "len(Temp[0 , : ]) !=2 :\n",
      "len(Temp[-1 , : ]) !=2 :\n",
      "executed assign_initial_boundary_conditions\n",
      "using calculated velocity profile\n",
      "executed set_vertical_velocity\n"
     ]
    },
    {
     "name": "stderr",
     "output_type": "stream",
     "text": [
      "100%|██████████████████████████████████| 15983/15983 [00:00<00:00, 29868.08it/s]\n"
     ]
    },
    {
     "name": "stdout",
     "output_type": "stream",
     "text": [
      "\n",
      "end of diffusion_advection_FD(), time taken: 0.5380077362060547\n",
      "In diffusion_advection_FD_full_matrix()\n",
      "len(Temp[0 , : ]) !=2 :\n",
      "len(Temp[-1 , : ]) !=2 :\n",
      "executed assign_initial_boundary_conditions\n",
      "using calculated velocity profile\n",
      "executed set_vertical_velocity\n"
     ]
    },
    {
     "name": "stderr",
     "output_type": "stream",
     "text": [
      "100%|██████████████████████████████████| 15983/15983 [00:00<00:00, 30026.69it/s]\n"
     ]
    },
    {
     "name": "stdout",
     "output_type": "stream",
     "text": [
      "\n",
      "end of diffusion_advection_FD(), time taken: 0.5352034568786621\n",
      "In diffusion_advection_FD_full_matrix()\n",
      "len(Temp[0 , : ]) !=2 :\n",
      "len(Temp[-1 , : ]) !=2 :\n",
      "executed assign_initial_boundary_conditions\n",
      "using calculated velocity profile\n",
      "executed set_vertical_velocity\n"
     ]
    },
    {
     "name": "stderr",
     "output_type": "stream",
     "text": [
      "100%|██████████████████████████████████| 15983/15983 [00:00<00:00, 29692.88it/s]\n"
     ]
    },
    {
     "name": "stdout",
     "output_type": "stream",
     "text": [
      "\n",
      "end of diffusion_advection_FD(), time taken: 0.5412998199462891\n",
      "In diffusion_advection_FD_full_matrix()\n",
      "len(Temp[0 , : ]) !=2 :\n",
      "len(Temp[-1 , : ]) !=2 :\n",
      "executed assign_initial_boundary_conditions\n",
      "using calculated velocity profile\n",
      "executed set_vertical_velocity\n"
     ]
    },
    {
     "name": "stderr",
     "output_type": "stream",
     "text": [
      "100%|██████████████████████████████████| 15983/15983 [00:00<00:00, 29727.31it/s]\n"
     ]
    },
    {
     "name": "stdout",
     "output_type": "stream",
     "text": [
      "\n",
      "end of diffusion_advection_FD(), time taken: 0.540339469909668\n",
      "In diffusion_advection_FD_full_matrix()\n",
      "len(Temp[0 , : ]) !=2 :\n",
      "len(Temp[-1 , : ]) !=2 :\n",
      "executed assign_initial_boundary_conditions\n",
      "using calculated velocity profile\n",
      "executed set_vertical_velocity\n"
     ]
    },
    {
     "name": "stderr",
     "output_type": "stream",
     "text": [
      "100%|██████████████████████████████████| 15983/15983 [00:00<00:00, 29549.33it/s]\n"
     ]
    },
    {
     "name": "stdout",
     "output_type": "stream",
     "text": [
      "\n",
      "end of diffusion_advection_FD(), time taken: 0.5436091423034668\n",
      "In diffusion_advection_FD_full_matrix()\n",
      "len(Temp[0 , : ]) !=2 :\n",
      "len(Temp[-1 , : ]) !=2 :\n",
      "executed assign_initial_boundary_conditions\n",
      "using calculated velocity profile\n",
      "executed set_vertical_velocity\n"
     ]
    },
    {
     "name": "stderr",
     "output_type": "stream",
     "text": [
      "100%|██████████████████████████████████| 15983/15983 [00:00<00:00, 30041.79it/s]"
     ]
    },
    {
     "name": "stdout",
     "output_type": "stream",
     "text": [
      "\n",
      "end of diffusion_advection_FD(), time taken: 0.5348842144012451\n"
     ]
    },
    {
     "name": "stderr",
     "output_type": "stream",
     "text": [
      "\n"
     ]
    }
   ],
   "source": [
    "T_PolarAmplification30 = np.genfromtxt(fname='data/GRIP_T_PolarAmplification3.beta0.txt')\n",
    "\n",
    "time_points=[]\n",
    "for i in range (1000):#maxtime\n",
    "    time_points.append(i)\n",
    "velocity=[]\n",
    "\n",
    "PA30_simulation_10=np.zeros((no_of_profiles,ic.shape[0]))\n",
    "PA30_surfaceTem_10=np.zeros((no_of_profiles,time_grid))\n",
    "\n",
    "for k in range(no_of_profiles):#no. of profiles\n",
    "    TPA_data=[]\n",
    "    for i in range (1000):#maxtime\n",
    "        TPA_data.append(T_PolarAmplification30[i][k])\n",
    "    top_boundary=interpolate_linear(x_ref=time_points,y_ref=TPA_data,x_req=time_req)\n",
    "    PA30_surfaceTem_10[k,:]=top_boundary\n",
    "    bottom_boundary=Tb\n",
    "\n",
    "    case_TPA_data=get_solution_using_FD(max_depth, max_time, dz_approx, dt_approx, \n",
    "                                        borehole3000_depths, borehole3000_densityProf,\n",
    "                                        velocity,ic,top_boundary,Tb,alpha,ws, wb,m)\n",
    "    PA30_simulation_10[k,:]=case_TPA_data.T[:,-1]\n",
    "    "
   ]
  },
  {
   "cell_type": "raw",
   "id": "3a759942",
   "metadata": {},
   "source": [
    "np.save('../Sensor placements/data_borehole_simulations/GRIP_simulations/GRIP_PA30_surfaceTem_10',PA30_surfaceTem_10)\n",
    "np.save('../Sensor placements/data_borehole_simulations/GRIP_simulations/GRIP_PA30_simulation_10',PA30_simulation_10)"
   ]
  },
  {
   "cell_type": "code",
   "execution_count": 17,
   "id": "82b7d984",
   "metadata": {},
   "outputs": [
    {
     "name": "stdout",
     "output_type": "stream",
     "text": [
      "In diffusion_advection_FD_full_matrix()\n",
      "len(Temp[0 , : ]) !=2 :\n",
      "len(Temp[-1 , : ]) !=2 :\n",
      "executed assign_initial_boundary_conditions\n",
      "using calculated velocity profile\n",
      "executed set_vertical_velocity\n"
     ]
    },
    {
     "name": "stderr",
     "output_type": "stream",
     "text": [
      "100%|██████████████████████████████████| 15983/15983 [00:00<00:00, 30648.89it/s]\n"
     ]
    },
    {
     "name": "stdout",
     "output_type": "stream",
     "text": [
      "\n",
      "end of diffusion_advection_FD(), time taken: 0.5247514247894287\n",
      "In diffusion_advection_FD_full_matrix()\n",
      "len(Temp[0 , : ]) !=2 :\n",
      "len(Temp[-1 , : ]) !=2 :\n",
      "executed assign_initial_boundary_conditions\n",
      "using calculated velocity profile\n",
      "executed set_vertical_velocity\n"
     ]
    },
    {
     "name": "stderr",
     "output_type": "stream",
     "text": [
      "100%|██████████████████████████████████| 15983/15983 [00:00<00:00, 30185.20it/s]\n"
     ]
    },
    {
     "name": "stdout",
     "output_type": "stream",
     "text": [
      "\n",
      "end of diffusion_advection_FD(), time taken: 0.532426118850708\n",
      "In diffusion_advection_FD_full_matrix()\n",
      "len(Temp[0 , : ]) !=2 :\n",
      "len(Temp[-1 , : ]) !=2 :\n",
      "executed assign_initial_boundary_conditions\n",
      "using calculated velocity profile\n",
      "executed set_vertical_velocity\n"
     ]
    },
    {
     "name": "stderr",
     "output_type": "stream",
     "text": [
      "100%|██████████████████████████████████| 15983/15983 [00:00<00:00, 29998.18it/s]\n"
     ]
    },
    {
     "name": "stdout",
     "output_type": "stream",
     "text": [
      "\n",
      "end of diffusion_advection_FD(), time taken: 0.5357232093811035\n",
      "In diffusion_advection_FD_full_matrix()\n",
      "len(Temp[0 , : ]) !=2 :\n",
      "len(Temp[-1 , : ]) !=2 :\n",
      "executed assign_initial_boundary_conditions\n",
      "using calculated velocity profile\n",
      "executed set_vertical_velocity\n"
     ]
    },
    {
     "name": "stderr",
     "output_type": "stream",
     "text": [
      "100%|██████████████████████████████████| 15983/15983 [00:00<00:00, 29879.50it/s]\n"
     ]
    },
    {
     "name": "stdout",
     "output_type": "stream",
     "text": [
      "\n",
      "end of diffusion_advection_FD(), time taken: 0.5378849506378174\n",
      "In diffusion_advection_FD_full_matrix()\n",
      "len(Temp[0 , : ]) !=2 :\n",
      "len(Temp[-1 , : ]) !=2 :\n",
      "executed assign_initial_boundary_conditions\n",
      "using calculated velocity profile\n",
      "executed set_vertical_velocity\n"
     ]
    },
    {
     "name": "stderr",
     "output_type": "stream",
     "text": [
      "100%|██████████████████████████████████| 15983/15983 [00:00<00:00, 30176.89it/s]\n"
     ]
    },
    {
     "name": "stdout",
     "output_type": "stream",
     "text": [
      "\n",
      "end of diffusion_advection_FD(), time taken: 0.5323536396026611\n",
      "In diffusion_advection_FD_full_matrix()\n",
      "len(Temp[0 , : ]) !=2 :\n",
      "len(Temp[-1 , : ]) !=2 :\n",
      "executed assign_initial_boundary_conditions\n",
      "using calculated velocity profile\n",
      "executed set_vertical_velocity\n"
     ]
    },
    {
     "name": "stderr",
     "output_type": "stream",
     "text": [
      "100%|██████████████████████████████████| 15983/15983 [00:00<00:00, 29545.06it/s]\n"
     ]
    },
    {
     "name": "stdout",
     "output_type": "stream",
     "text": [
      "\n",
      "end of diffusion_advection_FD(), time taken: 0.5437190532684326\n",
      "In diffusion_advection_FD_full_matrix()\n",
      "len(Temp[0 , : ]) !=2 :\n",
      "len(Temp[-1 , : ]) !=2 :\n",
      "executed assign_initial_boundary_conditions\n",
      "using calculated velocity profile\n",
      "executed set_vertical_velocity\n"
     ]
    },
    {
     "name": "stderr",
     "output_type": "stream",
     "text": [
      "100%|██████████████████████████████████| 15983/15983 [00:00<00:00, 30062.85it/s]\n"
     ]
    },
    {
     "name": "stdout",
     "output_type": "stream",
     "text": [
      "\n",
      "end of diffusion_advection_FD(), time taken: 0.5343873500823975\n",
      "In diffusion_advection_FD_full_matrix()\n",
      "len(Temp[0 , : ]) !=2 :\n",
      "len(Temp[-1 , : ]) !=2 :\n",
      "executed assign_initial_boundary_conditions\n",
      "using calculated velocity profile\n",
      "executed set_vertical_velocity\n"
     ]
    },
    {
     "name": "stderr",
     "output_type": "stream",
     "text": [
      "100%|██████████████████████████████████| 15983/15983 [00:00<00:00, 29581.30it/s]\n"
     ]
    },
    {
     "name": "stdout",
     "output_type": "stream",
     "text": [
      "\n",
      "end of diffusion_advection_FD(), time taken: 0.5432407855987549\n",
      "In diffusion_advection_FD_full_matrix()\n",
      "len(Temp[0 , : ]) !=2 :\n",
      "len(Temp[-1 , : ]) !=2 :\n",
      "executed assign_initial_boundary_conditions\n",
      "using calculated velocity profile\n",
      "executed set_vertical_velocity\n"
     ]
    },
    {
     "name": "stderr",
     "output_type": "stream",
     "text": [
      "100%|██████████████████████████████████| 15983/15983 [00:00<00:00, 29700.47it/s]\n"
     ]
    },
    {
     "name": "stdout",
     "output_type": "stream",
     "text": [
      "\n",
      "end of diffusion_advection_FD(), time taken: 0.540855884552002\n",
      "In diffusion_advection_FD_full_matrix()\n",
      "len(Temp[0 , : ]) !=2 :\n",
      "len(Temp[-1 , : ]) !=2 :\n",
      "executed assign_initial_boundary_conditions\n",
      "using calculated velocity profile\n",
      "executed set_vertical_velocity\n"
     ]
    },
    {
     "name": "stderr",
     "output_type": "stream",
     "text": [
      "100%|██████████████████████████████████| 15983/15983 [00:00<00:00, 29562.61it/s]"
     ]
    },
    {
     "name": "stdout",
     "output_type": "stream",
     "text": [
      "\n",
      "end of diffusion_advection_FD(), time taken: 0.5436575412750244\n"
     ]
    },
    {
     "name": "stderr",
     "output_type": "stream",
     "text": [
      "\n"
     ]
    }
   ],
   "source": [
    "T_PolarAmplification31 = np.genfromtxt(fname='data/GRIP_T_PolarAmplification3.beta1.txt')\n",
    "\n",
    "time_points=[]\n",
    "for i in range (1000):#maxtime\n",
    "    time_points.append(i)\n",
    "velocity=[]\n",
    "\n",
    "PA31_simulation_10=np.zeros((no_of_profiles,ic.shape[0]))\n",
    "PA31_surfaceTem_10=np.zeros((no_of_profiles,time_grid))\n",
    "\n",
    "for k in range(no_of_profiles):#no. of profiles\n",
    "    TPA_data=[]\n",
    "    for i in range (1000):#maxtime\n",
    "        TPA_data.append(T_PolarAmplification31[i][k])\n",
    "    top_boundary=interpolate_linear(x_ref=time_points,y_ref=TPA_data,x_req=time_req)\n",
    "    PA31_surfaceTem_10[k,:]=top_boundary\n",
    "    bottom_boundary=Tb\n",
    "\n",
    "    case_TPA_data=get_solution_using_FD(max_depth, max_time, dz_approx, dt_approx, \n",
    "                                        borehole3000_depths, borehole3000_densityProf,\n",
    "                                        velocity,ic,top_boundary,Tb,alpha,ws, wb,m)\n",
    "    PA31_simulation_10[k,:]=case_TPA_data.T[:,-1]"
   ]
  },
  {
   "cell_type": "raw",
   "id": "e2c3b8cc",
   "metadata": {},
   "source": [
    "np.save('../Sensor placements/data_borehole_simulations/GRIP_simulations/GRIP_PA31_surfaceTem_10',PA31_surfaceTem_10)\n",
    "np.save('../Sensor placements/data_borehole_simulations/GRIP_simulations/GRIP_PA31_simulation_10',PA31_simulation_10)"
   ]
  },
  {
   "cell_type": "code",
   "execution_count": 19,
   "id": "31df4541",
   "metadata": {},
   "outputs": [
    {
     "name": "stdout",
     "output_type": "stream",
     "text": [
      "In diffusion_advection_FD_full_matrix()\n",
      "len(Temp[0 , : ]) !=2 :\n",
      "len(Temp[-1 , : ]) !=2 :\n",
      "executed assign_initial_boundary_conditions\n",
      "using calculated velocity profile\n",
      "executed set_vertical_velocity\n"
     ]
    },
    {
     "name": "stderr",
     "output_type": "stream",
     "text": [
      "100%|██████████████████████████████████| 15983/15983 [00:00<00:00, 30505.05it/s]\n"
     ]
    },
    {
     "name": "stdout",
     "output_type": "stream",
     "text": [
      "\n",
      "end of diffusion_advection_FD(), time taken: 0.5271201133728027\n",
      "In diffusion_advection_FD_full_matrix()\n",
      "len(Temp[0 , : ]) !=2 :\n",
      "len(Temp[-1 , : ]) !=2 :\n",
      "executed assign_initial_boundary_conditions\n",
      "using calculated velocity profile\n",
      "executed set_vertical_velocity\n"
     ]
    },
    {
     "name": "stderr",
     "output_type": "stream",
     "text": [
      "100%|██████████████████████████████████| 15983/15983 [00:00<00:00, 30544.01it/s]\n"
     ]
    },
    {
     "name": "stdout",
     "output_type": "stream",
     "text": [
      "\n",
      "end of diffusion_advection_FD(), time taken: 0.5258693695068359\n",
      "In diffusion_advection_FD_full_matrix()\n",
      "len(Temp[0 , : ]) !=2 :\n",
      "len(Temp[-1 , : ]) !=2 :\n",
      "executed assign_initial_boundary_conditions\n",
      "using calculated velocity profile\n",
      "executed set_vertical_velocity\n"
     ]
    },
    {
     "name": "stderr",
     "output_type": "stream",
     "text": [
      "100%|██████████████████████████████████| 15983/15983 [00:00<00:00, 29946.43it/s]\n"
     ]
    },
    {
     "name": "stdout",
     "output_type": "stream",
     "text": [
      "\n",
      "end of diffusion_advection_FD(), time taken: 0.5364289283752441\n",
      "In diffusion_advection_FD_full_matrix()\n",
      "len(Temp[0 , : ]) !=2 :\n",
      "len(Temp[-1 , : ]) !=2 :\n",
      "executed assign_initial_boundary_conditions\n",
      "using calculated velocity profile\n",
      "executed set_vertical_velocity\n"
     ]
    },
    {
     "name": "stderr",
     "output_type": "stream",
     "text": [
      "100%|██████████████████████████████████| 15983/15983 [00:00<00:00, 29647.20it/s]\n"
     ]
    },
    {
     "name": "stdout",
     "output_type": "stream",
     "text": [
      "\n",
      "end of diffusion_advection_FD(), time taken: 0.5418033599853516\n",
      "In diffusion_advection_FD_full_matrix()\n",
      "len(Temp[0 , : ]) !=2 :\n",
      "len(Temp[-1 , : ]) !=2 :\n",
      "executed assign_initial_boundary_conditions\n",
      "using calculated velocity profile\n",
      "executed set_vertical_velocity\n"
     ]
    },
    {
     "name": "stderr",
     "output_type": "stream",
     "text": [
      "100%|██████████████████████████████████| 15983/15983 [00:00<00:00, 29861.96it/s]\n"
     ]
    },
    {
     "name": "stdout",
     "output_type": "stream",
     "text": [
      "\n",
      "end of diffusion_advection_FD(), time taken: 0.5378966331481934\n",
      "In diffusion_advection_FD_full_matrix()\n",
      "len(Temp[0 , : ]) !=2 :\n",
      "len(Temp[-1 , : ]) !=2 :\n",
      "executed assign_initial_boundary_conditions\n",
      "using calculated velocity profile\n",
      "executed set_vertical_velocity\n"
     ]
    },
    {
     "name": "stderr",
     "output_type": "stream",
     "text": [
      "100%|██████████████████████████████████| 15983/15983 [00:00<00:00, 29625.59it/s]\n"
     ]
    },
    {
     "name": "stdout",
     "output_type": "stream",
     "text": [
      "\n",
      "end of diffusion_advection_FD(), time taken: 0.542374849319458\n",
      "In diffusion_advection_FD_full_matrix()\n",
      "len(Temp[0 , : ]) !=2 :\n",
      "len(Temp[-1 , : ]) !=2 :\n",
      "executed assign_initial_boundary_conditions\n",
      "using calculated velocity profile\n",
      "executed set_vertical_velocity\n"
     ]
    },
    {
     "name": "stderr",
     "output_type": "stream",
     "text": [
      "100%|██████████████████████████████████| 15983/15983 [00:00<00:00, 29585.56it/s]\n"
     ]
    },
    {
     "name": "stdout",
     "output_type": "stream",
     "text": [
      "\n",
      "end of diffusion_advection_FD(), time taken: 0.5430324077606201\n",
      "In diffusion_advection_FD_full_matrix()\n",
      "len(Temp[0 , : ]) !=2 :\n",
      "len(Temp[-1 , : ]) !=2 :\n",
      "executed assign_initial_boundary_conditions\n",
      "using calculated velocity profile\n",
      "executed set_vertical_velocity\n"
     ]
    },
    {
     "name": "stderr",
     "output_type": "stream",
     "text": [
      "100%|██████████████████████████████████| 15983/15983 [00:00<00:00, 29840.31it/s]\n"
     ]
    },
    {
     "name": "stdout",
     "output_type": "stream",
     "text": [
      "\n",
      "end of diffusion_advection_FD(), time taken: 0.5383787155151367\n",
      "In diffusion_advection_FD_full_matrix()\n",
      "len(Temp[0 , : ]) !=2 :\n",
      "len(Temp[-1 , : ]) !=2 :\n",
      "executed assign_initial_boundary_conditions\n",
      "using calculated velocity profile\n",
      "executed set_vertical_velocity\n"
     ]
    },
    {
     "name": "stderr",
     "output_type": "stream",
     "text": [
      "100%|██████████████████████████████████| 15983/15983 [00:00<00:00, 30203.63it/s]\n"
     ]
    },
    {
     "name": "stdout",
     "output_type": "stream",
     "text": [
      "\n",
      "end of diffusion_advection_FD(), time taken: 0.5320732593536377\n",
      "In diffusion_advection_FD_full_matrix()\n",
      "len(Temp[0 , : ]) !=2 :\n",
      "len(Temp[-1 , : ]) !=2 :\n",
      "executed assign_initial_boundary_conditions\n",
      "using calculated velocity profile\n",
      "executed set_vertical_velocity\n"
     ]
    },
    {
     "name": "stderr",
     "output_type": "stream",
     "text": [
      "100%|██████████████████████████████████| 15983/15983 [00:00<00:00, 30010.96it/s]"
     ]
    },
    {
     "name": "stdout",
     "output_type": "stream",
     "text": [
      "\n",
      "end of diffusion_advection_FD(), time taken: 0.5353274345397949\n"
     ]
    },
    {
     "name": "stderr",
     "output_type": "stream",
     "text": [
      "\n"
     ]
    }
   ],
   "source": [
    "T_PolarAmplification1_6 = np.genfromtxt(fname='data/GRIP_T_PolarAmplification1.beta06.txt')\n",
    "\n",
    "time_points=[]\n",
    "for i in range (1000):#maxtime\n",
    "    time_points.append(i)\n",
    "velocity=[]\n",
    "\n",
    "PA1_6_simulation_10=np.zeros((no_of_profiles,ic.shape[0]))\n",
    "PA1_6_surfaceTem_10=np.zeros((no_of_profiles,time_grid))\n",
    "\n",
    "for k in range(no_of_profiles):#no. of profiles\n",
    "    TPA_data=[]\n",
    "    for i in range (1000):#maxtime\n",
    "        TPA_data.append(T_PolarAmplification1_6[i][k])\n",
    "    top_boundary=interpolate_linear(x_ref=time_points,y_ref=TPA_data,x_req=time_req)\n",
    "    PA1_6_surfaceTem_10[k,:]=top_boundary\n",
    "    bottom_boundary=Tb\n",
    "\n",
    "    case_TPA_data=get_solution_using_FD(max_depth, max_time, dz_approx, dt_approx, \n",
    "                                        borehole3000_depths, borehole3000_densityProf,\n",
    "                                        velocity,ic,top_boundary,Tb,alpha,ws, wb,m)\n",
    "    PA1_6_simulation_10[k,:]=case_TPA_data.T[:,-1]"
   ]
  },
  {
   "cell_type": "raw",
   "id": "c3debbe0",
   "metadata": {},
   "source": [
    "np.save('../Sensor placements/data_borehole_simulations/GRIP_simulations/GRIP_PA1_6_surfaceTem_10',PA1_6_surfaceTem_10)\n",
    "np.save('../Sensor placements/data_borehole_simulations/GRIP_simulations/GRIP_PA1_6_simulation_10',PA1_6_simulation_10)"
   ]
  },
  {
   "cell_type": "code",
   "execution_count": 21,
   "id": "a36e916b",
   "metadata": {},
   "outputs": [
    {
     "name": "stdout",
     "output_type": "stream",
     "text": [
      "In diffusion_advection_FD_full_matrix()\n",
      "len(Temp[0 , : ]) !=2 :\n",
      "len(Temp[-1 , : ]) !=2 :\n",
      "executed assign_initial_boundary_conditions\n",
      "using calculated velocity profile\n",
      "executed set_vertical_velocity\n"
     ]
    },
    {
     "name": "stderr",
     "output_type": "stream",
     "text": [
      "100%|██████████████████████████████████| 15983/15983 [00:00<00:00, 30883.22it/s]\n"
     ]
    },
    {
     "name": "stdout",
     "output_type": "stream",
     "text": [
      "\n",
      "end of diffusion_advection_FD(), time taken: 0.5208072662353516\n",
      "In diffusion_advection_FD_full_matrix()\n",
      "len(Temp[0 , : ]) !=2 :\n",
      "len(Temp[-1 , : ]) !=2 :\n",
      "executed assign_initial_boundary_conditions\n",
      "using calculated velocity profile\n",
      "executed set_vertical_velocity\n"
     ]
    },
    {
     "name": "stderr",
     "output_type": "stream",
     "text": [
      "100%|██████████████████████████████████| 15983/15983 [00:00<00:00, 30435.00it/s]\n"
     ]
    },
    {
     "name": "stdout",
     "output_type": "stream",
     "text": [
      "\n",
      "end of diffusion_advection_FD(), time taken: 0.5281202793121338\n",
      "In diffusion_advection_FD_full_matrix()\n",
      "len(Temp[0 , : ]) !=2 :\n",
      "len(Temp[-1 , : ]) !=2 :\n",
      "executed assign_initial_boundary_conditions\n",
      "using calculated velocity profile\n",
      "executed set_vertical_velocity\n"
     ]
    },
    {
     "name": "stderr",
     "output_type": "stream",
     "text": [
      "100%|██████████████████████████████████| 15983/15983 [00:00<00:00, 29253.34it/s]\n"
     ]
    },
    {
     "name": "stdout",
     "output_type": "stream",
     "text": [
      "\n",
      "end of diffusion_advection_FD(), time taken: 0.5495076179504395\n",
      "In diffusion_advection_FD_full_matrix()\n",
      "len(Temp[0 , : ]) !=2 :\n",
      "len(Temp[-1 , : ]) !=2 :\n",
      "executed assign_initial_boundary_conditions\n",
      "using calculated velocity profile\n",
      "executed set_vertical_velocity\n"
     ]
    },
    {
     "name": "stderr",
     "output_type": "stream",
     "text": [
      "100%|██████████████████████████████████| 15983/15983 [00:00<00:00, 28696.27it/s]\n"
     ]
    },
    {
     "name": "stdout",
     "output_type": "stream",
     "text": [
      "\n",
      "end of diffusion_advection_FD(), time taken: 0.5600414276123047\n",
      "In diffusion_advection_FD_full_matrix()\n",
      "len(Temp[0 , : ]) !=2 :\n",
      "len(Temp[-1 , : ]) !=2 :\n",
      "executed assign_initial_boundary_conditions\n",
      "using calculated velocity profile\n",
      "executed set_vertical_velocity\n"
     ]
    },
    {
     "name": "stderr",
     "output_type": "stream",
     "text": [
      "100%|██████████████████████████████████| 15983/15983 [00:00<00:00, 29393.17it/s]\n"
     ]
    },
    {
     "name": "stdout",
     "output_type": "stream",
     "text": [
      "\n",
      "end of diffusion_advection_FD(), time taken: 0.5475218296051025\n",
      "In diffusion_advection_FD_full_matrix()\n",
      "len(Temp[0 , : ]) !=2 :\n",
      "len(Temp[-1 , : ]) !=2 :\n",
      "executed assign_initial_boundary_conditions\n",
      "using calculated velocity profile\n",
      "executed set_vertical_velocity\n"
     ]
    },
    {
     "name": "stderr",
     "output_type": "stream",
     "text": [
      "100%|██████████████████████████████████| 15983/15983 [00:00<00:00, 29193.78it/s]\n"
     ]
    },
    {
     "name": "stdout",
     "output_type": "stream",
     "text": [
      "\n",
      "end of diffusion_advection_FD(), time taken: 0.550478458404541\n",
      "In diffusion_advection_FD_full_matrix()\n",
      "len(Temp[0 , : ]) !=2 :\n",
      "len(Temp[-1 , : ]) !=2 :\n",
      "executed assign_initial_boundary_conditions\n",
      "using calculated velocity profile\n",
      "executed set_vertical_velocity\n"
     ]
    },
    {
     "name": "stderr",
     "output_type": "stream",
     "text": [
      "100%|██████████████████████████████████| 15983/15983 [00:00<00:00, 29133.31it/s]\n"
     ]
    },
    {
     "name": "stdout",
     "output_type": "stream",
     "text": [
      "\n",
      "end of diffusion_advection_FD(), time taken: 0.5515611171722412\n",
      "In diffusion_advection_FD_full_matrix()\n",
      "len(Temp[0 , : ]) !=2 :\n",
      "len(Temp[-1 , : ]) !=2 :\n",
      "executed assign_initial_boundary_conditions\n",
      "using calculated velocity profile\n",
      "executed set_vertical_velocity\n"
     ]
    },
    {
     "name": "stderr",
     "output_type": "stream",
     "text": [
      "100%|██████████████████████████████████| 15983/15983 [00:00<00:00, 29281.52it/s]\n"
     ]
    },
    {
     "name": "stdout",
     "output_type": "stream",
     "text": [
      "\n",
      "end of diffusion_advection_FD(), time taken: 0.5488007068634033\n",
      "In diffusion_advection_FD_full_matrix()\n",
      "len(Temp[0 , : ]) !=2 :\n",
      "len(Temp[-1 , : ]) !=2 :\n",
      "executed assign_initial_boundary_conditions\n",
      "using calculated velocity profile\n",
      "executed set_vertical_velocity\n"
     ]
    },
    {
     "name": "stderr",
     "output_type": "stream",
     "text": [
      "100%|██████████████████████████████████| 15983/15983 [00:00<00:00, 29450.57it/s]\n"
     ]
    },
    {
     "name": "stdout",
     "output_type": "stream",
     "text": [
      "\n",
      "end of diffusion_advection_FD(), time taken: 0.545616626739502\n",
      "In diffusion_advection_FD_full_matrix()\n",
      "len(Temp[0 , : ]) !=2 :\n",
      "len(Temp[-1 , : ]) !=2 :\n",
      "executed assign_initial_boundary_conditions\n",
      "using calculated velocity profile\n",
      "executed set_vertical_velocity\n"
     ]
    },
    {
     "name": "stderr",
     "output_type": "stream",
     "text": [
      "100%|██████████████████████████████████| 15983/15983 [00:00<00:00, 29080.79it/s]"
     ]
    },
    {
     "name": "stdout",
     "output_type": "stream",
     "text": [
      "\n",
      "end of diffusion_advection_FD(), time taken: 0.5530657768249512\n"
     ]
    },
    {
     "name": "stderr",
     "output_type": "stream",
     "text": [
      "\n"
     ]
    }
   ],
   "source": [
    "T_PolarAmplification2_6 = np.genfromtxt(fname='data/GRIP_T_PolarAmplification2.beta06.txt')\n",
    "\n",
    "time_points=[]\n",
    "for i in range (1000):#maxtime\n",
    "    time_points.append(i)\n",
    "velocity=[]\n",
    "\n",
    "PA2_6_simulation_10=np.zeros((no_of_profiles,ic.shape[0]))\n",
    "PA2_6_surfaceTem_10=np.zeros((no_of_profiles,time_grid))\n",
    "\n",
    "for k in range(no_of_profiles):#no. of profiles\n",
    "    TPA_data=[]\n",
    "    for i in range (1000):#maxtime\n",
    "        TPA_data.append(T_PolarAmplification2_6[i][k])\n",
    "    top_boundary=interpolate_linear(x_ref=time_points,y_ref=TPA_data,x_req=time_req)\n",
    "    PA2_6_surfaceTem_10[k,:]=top_boundary\n",
    "    bottom_boundary=Tb\n",
    "\n",
    "    case_TPA_data=get_solution_using_FD(max_depth, max_time, dz_approx, dt_approx, \n",
    "                                        borehole3000_depths, borehole3000_densityProf,\n",
    "                                        velocity,ic,top_boundary,Tb,alpha,ws, wb,m)\n",
    "    PA2_6_simulation_10[k,:]=case_TPA_data.T[:,-1]"
   ]
  },
  {
   "cell_type": "raw",
   "id": "ee13c391",
   "metadata": {},
   "source": [
    "np.save('../Sensor placements/data_borehole_simulations/GRIP_simulations/GRIP_PA2_6_surfaceTem_10',PA2_6_surfaceTem_10)\n",
    "np.save('../Sensor placements/data_borehole_simulations/GRIP_simulations/GRIP_PA2_6_simulation_10',PA2_6_simulation_10)"
   ]
  },
  {
   "cell_type": "code",
   "execution_count": 23,
   "id": "3e8f1a36",
   "metadata": {},
   "outputs": [
    {
     "name": "stdout",
     "output_type": "stream",
     "text": [
      "In diffusion_advection_FD_full_matrix()\n",
      "len(Temp[0 , : ]) !=2 :\n",
      "len(Temp[-1 , : ]) !=2 :\n",
      "executed assign_initial_boundary_conditions\n",
      "using calculated velocity profile\n",
      "executed set_vertical_velocity\n"
     ]
    },
    {
     "name": "stderr",
     "output_type": "stream",
     "text": [
      "100%|██████████████████████████████████| 15983/15983 [00:00<00:00, 29137.78it/s]\n"
     ]
    },
    {
     "name": "stdout",
     "output_type": "stream",
     "text": [
      "\n",
      "end of diffusion_advection_FD(), time taken: 0.5517210960388184\n",
      "In diffusion_advection_FD_full_matrix()\n",
      "len(Temp[0 , : ]) !=2 :\n",
      "len(Temp[-1 , : ]) !=2 :\n",
      "executed assign_initial_boundary_conditions\n",
      "using calculated velocity profile\n",
      "executed set_vertical_velocity\n"
     ]
    },
    {
     "name": "stderr",
     "output_type": "stream",
     "text": [
      "100%|██████████████████████████████████| 15983/15983 [00:00<00:00, 28988.23it/s]\n"
     ]
    },
    {
     "name": "stdout",
     "output_type": "stream",
     "text": [
      "\n",
      "end of diffusion_advection_FD(), time taken: 0.5542521476745605\n",
      "In diffusion_advection_FD_full_matrix()\n",
      "len(Temp[0 , : ]) !=2 :\n",
      "len(Temp[-1 , : ]) !=2 :\n",
      "executed assign_initial_boundary_conditions\n",
      "using calculated velocity profile\n",
      "executed set_vertical_velocity\n"
     ]
    },
    {
     "name": "stderr",
     "output_type": "stream",
     "text": [
      "100%|██████████████████████████████████| 15983/15983 [00:00<00:00, 29108.48it/s]\n"
     ]
    },
    {
     "name": "stdout",
     "output_type": "stream",
     "text": [
      "\n",
      "end of diffusion_advection_FD(), time taken: 0.5520508289337158\n",
      "In diffusion_advection_FD_full_matrix()\n",
      "len(Temp[0 , : ]) !=2 :\n",
      "len(Temp[-1 , : ]) !=2 :\n",
      "executed assign_initial_boundary_conditions\n",
      "using calculated velocity profile\n",
      "executed set_vertical_velocity\n"
     ]
    },
    {
     "name": "stderr",
     "output_type": "stream",
     "text": [
      "100%|██████████████████████████████████| 15983/15983 [00:00<00:00, 29203.98it/s]\n"
     ]
    },
    {
     "name": "stdout",
     "output_type": "stream",
     "text": [
      "\n",
      "end of diffusion_advection_FD(), time taken: 0.55021071434021\n",
      "In diffusion_advection_FD_full_matrix()\n",
      "len(Temp[0 , : ]) !=2 :\n",
      "len(Temp[-1 , : ]) !=2 :\n",
      "executed assign_initial_boundary_conditions\n",
      "using calculated velocity profile\n",
      "executed set_vertical_velocity\n"
     ]
    },
    {
     "name": "stderr",
     "output_type": "stream",
     "text": [
      "100%|██████████████████████████████████| 15983/15983 [00:00<00:00, 29258.80it/s]\n"
     ]
    },
    {
     "name": "stdout",
     "output_type": "stream",
     "text": [
      "\n",
      "end of diffusion_advection_FD(), time taken: 0.5491485595703125\n",
      "In diffusion_advection_FD_full_matrix()\n",
      "len(Temp[0 , : ]) !=2 :\n",
      "len(Temp[-1 , : ]) !=2 :\n",
      "executed assign_initial_boundary_conditions\n",
      "using calculated velocity profile\n",
      "executed set_vertical_velocity\n"
     ]
    },
    {
     "name": "stderr",
     "output_type": "stream",
     "text": [
      "100%|██████████████████████████████████| 15983/15983 [00:00<00:00, 29115.22it/s]\n"
     ]
    },
    {
     "name": "stdout",
     "output_type": "stream",
     "text": [
      "\n",
      "end of diffusion_advection_FD(), time taken: 0.551872968673706\n",
      "In diffusion_advection_FD_full_matrix()\n",
      "len(Temp[0 , : ]) !=2 :\n",
      "len(Temp[-1 , : ]) !=2 :\n",
      "executed assign_initial_boundary_conditions\n",
      "using calculated velocity profile\n",
      "executed set_vertical_velocity\n"
     ]
    },
    {
     "name": "stderr",
     "output_type": "stream",
     "text": [
      "100%|██████████████████████████████████| 15983/15983 [00:00<00:00, 29478.37it/s]\n"
     ]
    },
    {
     "name": "stdout",
     "output_type": "stream",
     "text": [
      "\n",
      "end of diffusion_advection_FD(), time taken: 0.5454146862030029\n",
      "In diffusion_advection_FD_full_matrix()\n",
      "len(Temp[0 , : ]) !=2 :\n",
      "len(Temp[-1 , : ]) !=2 :\n",
      "executed assign_initial_boundary_conditions\n",
      "using calculated velocity profile\n",
      "executed set_vertical_velocity\n"
     ]
    },
    {
     "name": "stderr",
     "output_type": "stream",
     "text": [
      "100%|██████████████████████████████████| 15983/15983 [00:00<00:00, 29239.25it/s]\n"
     ]
    },
    {
     "name": "stdout",
     "output_type": "stream",
     "text": [
      "\n",
      "end of diffusion_advection_FD(), time taken: 0.5495607852935791\n",
      "In diffusion_advection_FD_full_matrix()\n",
      "len(Temp[0 , : ]) !=2 :\n",
      "len(Temp[-1 , : ]) !=2 :\n",
      "executed assign_initial_boundary_conditions\n",
      "using calculated velocity profile\n",
      "executed set_vertical_velocity\n"
     ]
    },
    {
     "name": "stderr",
     "output_type": "stream",
     "text": [
      "100%|██████████████████████████████████| 15983/15983 [00:00<00:00, 29066.76it/s]\n"
     ]
    },
    {
     "name": "stdout",
     "output_type": "stream",
     "text": [
      "\n",
      "end of diffusion_advection_FD(), time taken: 0.5530860424041748\n",
      "In diffusion_advection_FD_full_matrix()\n",
      "len(Temp[0 , : ]) !=2 :\n",
      "len(Temp[-1 , : ]) !=2 :\n",
      "executed assign_initial_boundary_conditions\n",
      "using calculated velocity profile\n",
      "executed set_vertical_velocity\n"
     ]
    },
    {
     "name": "stderr",
     "output_type": "stream",
     "text": [
      "100%|██████████████████████████████████| 15983/15983 [00:00<00:00, 28578.43it/s]"
     ]
    },
    {
     "name": "stdout",
     "output_type": "stream",
     "text": [
      "\n",
      "end of diffusion_advection_FD(), time taken: 0.5622384548187256\n"
     ]
    },
    {
     "name": "stderr",
     "output_type": "stream",
     "text": [
      "\n"
     ]
    }
   ],
   "source": [
    "T_PolarAmplification3_6 = np.genfromtxt(fname='data/GRIP_T_PolarAmplification3.beta06.txt')\n",
    "\n",
    "time_points=[]\n",
    "for i in range (1000):#maxtime\n",
    "    time_points.append(i)\n",
    "velocity=[]\n",
    "\n",
    "PA3_6_simulation_10=np.zeros((no_of_profiles,ic.shape[0]))\n",
    "PA3_6_surfaceTem_10=np.zeros((no_of_profiles,time_grid))\n",
    "\n",
    "for k in range(no_of_profiles):#no. of profiles\n",
    "    TPA_data=[]\n",
    "    for i in range (1000):#maxtime\n",
    "        TPA_data.append(T_PolarAmplification3_6[i][k])\n",
    "    top_boundary=interpolate_linear(x_ref=time_points,y_ref=TPA_data,x_req=time_req)\n",
    "    PA3_6_surfaceTem_10[k,:]=top_boundary\n",
    "    bottom_boundary=Tb\n",
    "\n",
    "    case_TPA_data=get_solution_using_FD(max_depth, max_time, dz_approx, dt_approx, \n",
    "                                        borehole3000_depths, borehole3000_densityProf,\n",
    "                                        velocity,ic,top_boundary,Tb,alpha,ws, wb,m)\n",
    "    PA3_6_simulation_10[k,:]=case_TPA_data.T[:,-1]"
   ]
  },
  {
   "cell_type": "raw",
   "id": "6515be72",
   "metadata": {},
   "source": [
    "np.save('../Sensor placements/data_borehole_simulations/GRIP_simulations/GRIP_PA3_6_surfaceTem_10',PA3_6_surfaceTem_10)\n",
    "np.save('../Sensor placements/data_borehole_simulations/GRIP_simulations/GRIP_PA3_6_simulation_10',PA3_6_simulation_10)"
   ]
  },
  {
   "cell_type": "raw",
   "id": "828e1c13",
   "metadata": {},
   "source": [
    "np.save('../Sensor placements/data_borehole_simulations/GRIP_simulations/GRIP_sample_depths_fwd',case_TPA_data.depths)\n",
    "np.save('../Sensor placements/data_borehole_simulations/GRIP_simulations/GRIP_sample_times_fwd',case_TPA_data.times)"
   ]
  },
  {
   "cell_type": "code",
   "execution_count": null,
   "id": "99480125",
   "metadata": {},
   "outputs": [],
   "source": []
  }
 ],
 "metadata": {
  "kernelspec": {
   "display_name": "Python 3 (ipykernel)",
   "language": "python",
   "name": "python3"
  },
  "language_info": {
   "codemirror_mode": {
    "name": "ipython",
    "version": 3
   },
   "file_extension": ".py",
   "mimetype": "text/x-python",
   "name": "python",
   "nbconvert_exporter": "python",
   "pygments_lexer": "ipython3",
   "version": "3.10.9"
  }
 },
 "nbformat": 4,
 "nbformat_minor": 5
}
